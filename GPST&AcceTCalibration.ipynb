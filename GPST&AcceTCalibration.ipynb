{
 "cells": [
  {
   "cell_type": "code",
   "execution_count": null,
   "id": "b2e01274",
   "metadata": {},
   "outputs": [],
   "source": [
    "import numpy as np\n",
    "import pandas as pd\n",
    "import math\n",
    "import folium\n",
    "from folium.plugins import FloatImage\n",
    "import plotly.graph_objects as go\n",
    "import os\n",
    "from PIL.ExifTags import TAGS, GPSTAGS\n",
    "from plotly.subplots import make_subplots\n",
    "from PIL import Image, ImageDraw, ImageFont"
   ]
  },
  {
   "cell_type": "markdown",
   "id": "c4dcaa17",
   "metadata": {},
   "source": [
    "### Acronomy\n",
    "- acceleration in 1s time interval: $accel$\n",
    "- $S_ij $: speed at i elapsed time and j elapsed time inside i and i+1 interval<br>\n",
    "- $Lat_i$: latitude of i point <br>\n",
    "- $Lon_i$: longitude of i point <br>\n",
    "- $t_i$: time at i point  <br>\n",
    "- SR: Sampling rate of accelerations, 200Hz in this case <br>"
   ]
  },
  {
   "cell_type": "code",
   "execution_count": null,
   "id": "b9221d8a",
   "metadata": {},
   "outputs": [],
   "source": [
    "df_Loc = pd.read_csv(\"SourceFiles\Location.csv\")\n",
    "df_Loc.index = pd.to_datetime(df_Loc['time'], unit='ns')"
   ]
  },
  {
   "cell_type": "code",
   "execution_count": null,
   "id": "e4b84866",
   "metadata": {},
   "outputs": [],
   "source": [
    "df_Vibr = pd.read_csv('SourceFiles\Accelerometer.csv')\n",
    "df_Vibr.index = pd.to_datetime(df_Vibr['time'], unit = 'ns')"
   ]
  },
  {
   "cell_type": "markdown",
   "id": "b3f107e3",
   "metadata": {},
   "source": [
    "### Trim Location data to allow 20s GPS stabalization. And\n",
    "### Match vibration data with GPS data based on time"
   ]
  },
  {
   "cell_type": "code",
   "execution_count": null,
   "id": "a02e6a84",
   "metadata": {
    "scrolled": false
   },
   "outputs": [],
   "source": [
    "# cut first 20 seconds for engines and GPS to be stable\n",
    "df_Loc = df_Loc[df_Loc.index >= df_Vibr.index[0]+pd.Timedelta(seconds=20)]\n",
    "print('Start point of analysis ', df_Loc.index[0])\n",
    "\n",
    "# Trim the data\n",
    "if df_Vibr.index[0] < df_Loc.index[0]:\n",
    "    df_Vibr = df_Vibr[df_Vibr.index >= df_Loc.index[0]]\n",
    "else:\n",
    "    df_Loc = df_Loc[df_Loc.index >= df_Vibr.index[0]]\n",
    "\n",
    "\n",
    "    \n",
    "print('Shape of Vibration data ', df_Vibr.shape)\n",
    "print('Shape of Location data ', df_Loc.shape)\n"
   ]
  },
  {
   "cell_type": "markdown",
   "id": "f242eb7c",
   "metadata": {},
   "source": [
    "### sometimes sampling rate of GPS changes, the vibration data will somehow change as well. This will affect the calculation of sampling rate of accelerometer. To avoid that, following codes will drop all data after identifying change of SR of GPS"
   ]
  },
  {
   "cell_type": "code",
   "execution_count": null,
   "id": "2c4fe7a7",
   "metadata": {},
   "outputs": [],
   "source": [
    "for i in range(1,df_Loc.shape[0]):\n",
    "    if (df_Loc.index[i]-df_Loc.index[i-1]).total_seconds()>2:\n",
    "        df_Loc = df_Loc[df_Loc.index <= df_Loc.index[i-1]]\n",
    "        index_temp = np.abs((df_Vibr.index - df_Loc.index[i-1])).argsort()[0]\n",
    "        df_Vibr4SR = df_Vibr.iloc[0:index_temp]\n",
    "        break\n",
    "    else:\n",
    "        df_Vibr4SR = df_Vibr"
   ]
  },
  {
   "cell_type": "code",
   "execution_count": null,
   "id": "edbe88d5",
   "metadata": {},
   "outputs": [],
   "source": [
    "df_Loc.shape"
   ]
  },
  {
   "cell_type": "code",
   "execution_count": null,
   "id": "dc91286e",
   "metadata": {},
   "outputs": [],
   "source": [
    "df_Vibr.shape"
   ]
  },
  {
   "cell_type": "markdown",
   "id": "4e37d73a",
   "metadata": {},
   "source": [
    "### Calculate the sampling rate\n",
    "#### It is been found that the max sampling rate for most of smarphones remain unknown, it can only be found by test. the data processing layer should be able to process data with unknown sampling rate\n",
    "#### round_down(vib.len/timeSpan)"
   ]
  },
  {
   "cell_type": "code",
   "execution_count": null,
   "id": "4c9d4ce7",
   "metadata": {},
   "outputs": [],
   "source": [
    "Time_Span = df_Vibr4SR.index[-1]-df_Vibr4SR.index[0]\n",
    "print('Time duration', Time_Span.total_seconds())\n",
    "SR = int(df_Vibr4SR.shape[0]/Time_Span.total_seconds())\n",
    "print('Sampling rate is ', SR)"
   ]
  },
  {
   "cell_type": "code",
   "execution_count": null,
   "id": "7b5e7184",
   "metadata": {},
   "outputs": [],
   "source": [
    "df_Vibr.shape[0]/Time_Span.total_seconds()"
   ]
  },
  {
   "cell_type": "code",
   "execution_count": null,
   "id": "dd7b67a9",
   "metadata": {},
   "outputs": [],
   "source": [
    "df_Vibr.shape[0]/Time_Span.total_seconds()"
   ]
  },
  {
   "cell_type": "markdown",
   "id": "c95f847e",
   "metadata": {},
   "source": [
    "### As shown above, the length of vibr data and loc data do not match\n",
    "In any smartphone, the sampling rate of vibration data is not exact integers, e.g. if Sampling rate (SR) is 100Hz and 1000s duration for data collection, 100300 vibration data might be collected. the SR error is 0.3% or more. For 1000s, 300 data points error is equivilent to 3s error. In GIS, if the vehicle runs 10m/s, the error can be 30m. <br>\n",
    "\n",
    "#### Same error happens on GPS\n",
    "\n",
    "### To eliminate above errors\n",
    "We take GPS as fiducial values. <br>\n",
    "Firstly, find time in Vibr data that matches all rows with Loc data. <br>\n",
    "Secondly, between every two GPS data points, we assign (SR-1) GPS data to vibration data points accordingly.<br>\n",
    "Thirdly, concatenate all into one array <br>\n",
    "Finally, Trim extra data points that beyond SR*[length(Loc)-1] in vibration data <br>\n",
    "<br>\n",
    "In this way, we keep the length of the vibra data exactly SR*length of loc without lossing too many data points"
   ]
  },
  {
   "cell_type": "code",
   "execution_count": null,
   "id": "1b241448",
   "metadata": {
    "scrolled": true
   },
   "outputs": [],
   "source": [
    "Vibr_BL2_Loc = [] # there will be dropoff\n",
    "Vibr_BL2_Locpf = pd.DataFrame()\n",
    "for i in df_Loc.index:\n",
    "    index_temp = np.abs((df_Vibr.index - i)).argsort()[0]\n",
    "    temp = df_Vibr.iloc[index_temp:index_temp+SR]\n",
    "    Vibr_BL2_Loc.append(temp)\n",
    "    Vibr_BL2_Locpf = pd.concat([Vibr_BL2_Locpf,temp],axis=0)\n",
    "Vibr_BL2_Locpf = Vibr_BL2_Locpf[0:SR*(df_Loc.shape[0]-1)]"
   ]
  },
  {
   "cell_type": "code",
   "execution_count": null,
   "id": "e5fa2cc3",
   "metadata": {},
   "outputs": [],
   "source": [
    "print('Number of the vibr data beyond last location data is', Vibr_BL2_Loc[-1].shape[0])\n",
    "print('Shape of the new vibration data is ', Vibr_BL2_Locpf.shape)\n",
    "print('Length of the location data is ', len(Vibr_BL2_Loc))"
   ]
  },
  {
   "cell_type": "markdown",
   "id": "99473593",
   "metadata": {},
   "source": [
    "### Compare original vibra data and dropoff vibra data"
   ]
  },
  {
   "cell_type": "code",
   "execution_count": null,
   "id": "54aaa846",
   "metadata": {
    "scrolled": false
   },
   "outputs": [],
   "source": [
    "layout = go.Layout(title= f\"Plot with total {Vibr_BL2_Locpf.shape[0]} data points\")\n",
    "fig = go.Figure(layout=layout)\n",
    "for axis in ['x', 'y', 'z']:\n",
    "    fig.add_trace(go.Scatter(x = Vibr_BL2_Locpf.index, y = Vibr_BL2_Locpf[axis], name = axis))\n",
    "fig.show()\n",
    "\n",
    "\n",
    "layout = go.Layout(title= f\"Plot with total ({df_Vibr.shape[0]}) data points\")\n",
    "fig = go.Figure(layout=layout)\n",
    "for axis in ['x', 'y', 'z']:\n",
    "    fig.add_trace(go.Scatter(x = df_Vibr.index, y = df_Vibr[axis], name = axis))\n",
    "fig.show()"
   ]
  },
  {
   "cell_type": "code",
   "execution_count": null,
   "id": "a7ae614b",
   "metadata": {},
   "outputs": [],
   "source": [
    "speed = df_Loc['speed']"
   ]
  },
  {
   "cell_type": "markdown",
   "id": "36f11f78",
   "metadata": {},
   "source": [
    "-1 mean no valid speed data available, replace all -1 by 0"
   ]
  },
  {
   "cell_type": "code",
   "execution_count": null,
   "id": "651a579f",
   "metadata": {},
   "outputs": [],
   "source": [
    "speed = speed.replace(-1,0)"
   ]
  },
  {
   "cell_type": "code",
   "execution_count": null,
   "id": "ad1e444b",
   "metadata": {},
   "outputs": [],
   "source": [
    "speed"
   ]
  },
  {
   "cell_type": "code",
   "execution_count": null,
   "id": "c7b49831",
   "metadata": {},
   "outputs": [],
   "source": [
    "Lat = df_Loc['latitude']\n",
    "Lon = df_Loc['longitude']"
   ]
  },
  {
   "cell_type": "markdown",
   "id": "9adfbdef",
   "metadata": {},
   "source": [
    "### To draw vibra data against GPS data, two dataset should have the same length. \n",
    "### However, \n",
    "--- The sampling rate of GPS is always 1Hz, namely 1 sampling per second, this is the property of the satalite rather than smartphones\n",
    "\n",
    "--- And the sampling rate of accelerometer is 100Hz or more\n",
    "\n",
    "#### More Loc data should be generated\n",
    "\n",
    "\n",
    "### How does it work?\n",
    "\n",
    "--- between every two second interval, location data will be generated for each vibration data based on the distance of each vibration data to the reference GPS points. \n",
    "\n",
    "--- as the speed of vehicle can be changing in every two seconds interval, the density of vibration data can be unenven, i.e. the vibration data points is not evenly distributed.\n",
    "\n",
    "#### assumptions\n",
    "-  We assume the acceleration of vehicle is constant within every 1s interval.\n",
    "-  We assume the road is straight in 1s interval.\n",
    "\n",
    "#### Calculate the distance to i0 for all ij points.\n",
    "-  The speed change,i.e. acceleration, at each elapsed time is written as accel = [$S_i-(S_i+ΔS)$]/SR\n",
    "-  the speed at each elapsed time is $S_ij = S_i0+j*accel$\n",
    "-  the average speed between j and j+1 in 1s interval is {$S_ij$+$S_ij+1$}/2\n",
    "-  Finaly we calculate the distance of ij to i0, $\\Sigma$ {$S_i0+j*[S_i-(S_i+ΔS)]/SR+S_i0+(j+1)*[S_i-(S_i+ΔS)]$/SR}/2 \n"
   ]
  },
  {
   "cell_type": "code",
   "execution_count": null,
   "id": "29a7df5f",
   "metadata": {},
   "outputs": [],
   "source": [
    "def DisIn1s(S0,Td,SR):\n",
    "    S1 = 2*Td/1-S0\n",
    "    accel = (S1-S0)/(SR)\n",
    "    Dis2S0List = [0]\n",
    "    Dis2S0 = 0\n",
    "    for j in range (0,SR-1):\n",
    "        aver = ((S0+(j+1)*accel)+(S0 + j*accel))/2\n",
    "        DisTra = aver*(1/SR)\n",
    "        Dis2S0 = Dis2S0+DisTra\n",
    "        Dis2S0List.append(Dis2S0)\n",
    "    return Dis2S0List"
   ]
  },
  {
   "cell_type": "code",
   "execution_count": null,
   "id": "0f10a3b1",
   "metadata": {},
   "outputs": [],
   "source": [
    "def HaversineFormula(location1, location2):\n",
    "    earth_radius = 6371000\n",
    "    lat1, lon1 = location1\n",
    "    lat2, lon2 = location2\n",
    "    lat1, lon1, lat2, lon2 = map(math.radians, [lat1, lon1, lat2, lon2])\n",
    "    d_lat = lat2 - lat1\n",
    "    d_lon = lon2 - lon1\n",
    "    # Apply the Haversine formula\n",
    "    a = math.sin(d_lat/2)**2 + math.cos(lat1) * math.cos(lat2) * math.sin(d_lon/2)**2\n",
    "    c = 2 * math.asin(math.sqrt(a))\n",
    "    d = earth_radius * c\n",
    "    bearing = math.atan2(math.sin(d_lon)*math.cos(lat2), math.cos(lat1)*math.sin(lat2) - math.sin(lat1)*math.cos(lat2)*math.cos(d_lon))\n",
    "    return earth_radius * c, bearing"
   ]
  },
  {
   "cell_type": "code",
   "execution_count": null,
   "id": "aa5b2dc1",
   "metadata": {},
   "outputs": [],
   "source": [
    "def NewLoc(loc1,loc2,initial_speed,SR):\n",
    "    lat_A,lon_A = loc1\n",
    "    lat_B,lon_B = loc2\n",
    "    Dlist = []\n",
    "    TotalDist, bearing = HaversineFormula((lat_A, lon_A), (lat_B, lon_B))\n",
    "    Dis2S0List = DisIn1s(initial_speed,TotalDist,SR)\n",
    "    R = 6371000\n",
    "    for i in range(SR):\n",
    "        # Calculate the distance and bearing from A to the current GPS location\n",
    "        distance = Dis2S0List[i]\n",
    "        # Calculate the latitude and longitude of the current GPS location\n",
    "        lat1 = math.radians(lat_A)\n",
    "        lon1 = math.radians(lon_A)\n",
    "        lat2 = math.asin(math.sin(lat1)*math.cos(distance/R) + math.cos(lat1)*math.sin(distance/R)*math.cos(bearing))\n",
    "        lon2 = lon1 + math.atan2(math.sin(bearing)*math.sin(distance/R)*math.cos(lat1), math.cos(distance/R)-math.sin(lat1)*math.sin(lat2))\n",
    "        lat_cur = math.degrees(lat2)\n",
    "        lon_cur = math.degrees(lon2)\n",
    "        Dlist.append((lat_cur,lon_cur))\n",
    "\n",
    "    return Dlist"
   ]
  },
  {
   "cell_type": "code",
   "execution_count": null,
   "id": "e3d7dca0",
   "metadata": {
    "scrolled": true
   },
   "outputs": [],
   "source": [
    "Loc4Vib = []\n",
    "for i in range (len(Lat)-1):\n",
    "    testS1 = speed[i]\n",
    "    LocTes1 = (Lat[i],Lon[i])\n",
    "    LocTes2 = (Lat[i+1],Lon[i+1])\n",
    "    LocList = NewLoc(LocTes1,LocTes2,testS1,SR)\n",
    "    Loc4Vib.extend(LocList)"
   ]
  },
  {
   "cell_type": "code",
   "execution_count": null,
   "id": "8340ecdb",
   "metadata": {},
   "outputs": [],
   "source": [
    "print('length of the new location data ', len(Loc4Vib))\n",
    "print('shape of the vibration data matrix', Vibr_BL2_Locpf.shape)"
   ]
  },
  {
   "cell_type": "code",
   "execution_count": null,
   "id": "d89f406f",
   "metadata": {},
   "outputs": [],
   "source": [
    "my_map = folium.Map(location=[51.88270833333333, -8.496402777777776], zoom_start=13)\n",
    "folium.PolyLine(Loc4Vib, color=\"blue\", weight=5.0).add_to(my_map)\n",
    "my_map"
   ]
  },
  {
   "cell_type": "markdown",
   "id": "47382af5",
   "metadata": {},
   "source": [
    "### Now draw vibration data against GPS data\n",
    "#### GPS data is 2D map, so Vibra vs GPS is 3D. with such a large dataset, this 3D plot will be a mass.\n",
    "#### The alternative solution is to draw vibration data vs accumulative distance, i.e. the distances of each vibra data on the route\n",
    "#### Now lets calculate the accumulated distance corresponding to every vibra data point. "
   ]
  },
  {
   "cell_type": "code",
   "execution_count": null,
   "id": "5d0dc0e8",
   "metadata": {},
   "outputs": [],
   "source": [
    "Loc4Vib[0]"
   ]
  },
  {
   "cell_type": "code",
   "execution_count": null,
   "id": "b22071b5",
   "metadata": {
    "scrolled": true
   },
   "outputs": [],
   "source": [
    "AcDist = np.array([0])\n",
    "\n",
    "temp_Dist = 0\n",
    "for i in range(1,len(Loc4Vib)):\n",
    "    stgtDist, bearing = HaversineFormula(Loc4Vib[i-1], Loc4Vib[i])\n",
    "    temp_Dist += stgtDist\n",
    "    AcDist = np.append(AcDist, temp_Dist)\n",
    "print('The total distance of the route', AcDist[-1])"
   ]
  },
  {
   "cell_type": "code",
   "execution_count": null,
   "id": "30ee80ac",
   "metadata": {},
   "outputs": [],
   "source": [
    "AcDist.shape"
   ]
  },
  {
   "cell_type": "markdown",
   "id": "7732f5dd",
   "metadata": {},
   "source": [
    "### Now draw Vibra vs Distance"
   ]
  },
  {
   "cell_type": "code",
   "execution_count": null,
   "id": "4c4fcc84",
   "metadata": {},
   "outputs": [],
   "source": [
    "layout = go.Layout(title= \"Vibration vs Distance\")\n",
    "fig = go.Figure(layout=layout)\n",
    "for axis in ['x', 'y', 'z']:\n",
    "    fig.add_trace(go.Scatter(x = AcDist, y = Vibr_BL2_Locpf[axis], name = axis))\n",
    "fig.show()\n",
    "\n",
    "layout = go.Layout(title= f\"Vibration vs Time\")\n",
    "fig = go.Figure(layout=layout)\n",
    "for axis in ['x', 'y', 'z']:\n",
    "    fig.add_trace(go.Scatter(x = Vibr_BL2_Locpf.index, y = Vibr_BL2_Locpf[axis], name = axis))\n",
    "fig.show()"
   ]
  },
  {
   "cell_type": "code",
   "execution_count": null,
   "id": "a0fc1f0f",
   "metadata": {},
   "outputs": [],
   "source": [
    "AcDist.shape"
   ]
  },
  {
   "cell_type": "markdown",
   "id": "4032748d",
   "metadata": {},
   "source": [
    "### Now save new data to file"
   ]
  },
  {
   "cell_type": "code",
   "execution_count": null,
   "id": "4413053f",
   "metadata": {},
   "outputs": [],
   "source": [
    "NLocations = pd.DataFrame(Loc4Vib, columns=['Latitude', 'Longitude'])\n",
    "AccumulativeDist = pd.DataFrame(AcDist, columns=['AccumulativeDist'])"
   ]
  },
  {
   "cell_type": "code",
   "execution_count": null,
   "id": "5437570e",
   "metadata": {},
   "outputs": [],
   "source": [
    "NLocations.index"
   ]
  },
  {
   "cell_type": "code",
   "execution_count": null,
   "id": "e2f9eb16",
   "metadata": {},
   "outputs": [],
   "source": [
    "Vibr_BL2_Locpf = Vibr_BL2_Locpf.reset_index(drop=True)\n",
    "Vibr_BL2_Locpf.index"
   ]
  },
  {
   "cell_type": "code",
   "execution_count": null,
   "id": "7cb31e21",
   "metadata": {},
   "outputs": [],
   "source": [
    "AllinOne = pd.concat([Vibr_BL2_Locpf, NLocations,], axis=1)"
   ]
  },
  {
   "cell_type": "markdown",
   "id": "a2dc0d09",
   "metadata": {},
   "source": [
    "# Visualization"
   ]
  },
  {
   "cell_type": "code",
   "execution_count": null,
   "id": "16ad3ea8",
   "metadata": {},
   "outputs": [],
   "source": [
    "# convert GPS \n",
    "def GPSdegree2decimal(N,W):\n",
    "    latitude_decimal = N[0] + (N[1]/60.0) + (N[2]/3600.0)\n",
    "    longitude_decimal = W[0] + (W[1]/60.0) + (W[2]/3600.0)\n",
    "    return latitude_decimal, -longitude_decimal"
   ]
  },
  {
   "cell_type": "code",
   "execution_count": null,
   "id": "a128fed9",
   "metadata": {},
   "outputs": [],
   "source": [
    "# Load the image\n",
    "def readImagGPS(path):\n",
    "    image_path = path\n",
    "    image = Image.open(image_path)\n",
    "    longi, lati = 0,0\n",
    "    # Extract metadata\n",
    "    exifdata = image._getexif()\n",
    "    ImagGPS = {}\n",
    "\n",
    "    for tag, value in exifdata.items():\n",
    "        decoded = TAGS.get(tag,tag)\n",
    "        if decoded == 'GPSInfo':\n",
    "            GPSdata = {}\n",
    "            for subtag in value:\n",
    "                subdecoded = GPSTAGS.get(subtag,subtag)\n",
    "                GPSdata[subdecoded] = value[subtag]\n",
    "\n",
    "            ImagGPS[decoded] = GPSdata\n",
    "    DecimalGPS = list(GPSdegree2decimal(ImagGPS['GPSInfo']['GPSLatitude'], ImagGPS['GPSInfo']['GPSLongitude']))  \n",
    "    df = pd.DataFrame(data=ImagGPS)\n",
    "    df = df.fillna(' ').T\n",
    "    df = df.applymap(lambda x: x[0] if type(x)==list else x)\n",
    "    df.to_html()\n",
    "    return df, DecimalGPS\n"
   ]
  },
  {
   "cell_type": "code",
   "execution_count": null,
   "id": "77d20afb",
   "metadata": {},
   "outputs": [],
   "source": [
    "def readFolder (path):\n",
    "    folder_path = path\n",
    "    Files =[]\n",
    "    # Define a list of image file extensions\n",
    "    image_extensions = ['.jpg', '.jpeg', '.png', '.gif']\n",
    "\n",
    "    # Iterate over all files in the folder\n",
    "    for filename in os.listdir(folder_path):\n",
    "        file_path = os.path.join(folder_path, filename)\n",
    "        # Check if the file is an image file\n",
    "        if os.path.isfile(file_path) and any(ext in filename.lower() for ext in image_extensions):\n",
    "            # Open the image file using the PIL library\n",
    "            Files.append(filename)\n",
    "    \n",
    "    return Files"
   ]
  },
  {
   "cell_type": "code",
   "execution_count": null,
   "id": "97e4f5dc",
   "metadata": {},
   "outputs": [],
   "source": [
    "def addtoFoliumMap(map,imageURL):\n",
    "    info, GPSloc = readImagGPS(imageURL)\n",
    "    \n",
    "    TempInfo = \"Anomaly type: Patching <br />Catagary: 4 <br /> Latitude: 51.87936111 <br /> Longitude: 8.30510833\"\n",
    "    htmlcode = \"\"\"<div>\n",
    "    <img src={imageURL} alt={info} width=\"230\" height=\"172\">\n",
    "    <br /><span style=\"font-size: 12px\">{info}</span>\n",
    "    </div>\"\"\".format(**locals())\n",
    "    tooltip = \"Click me!\"\n",
    "\n",
    "    folium.Marker(\n",
    "        [GPSloc[0], GPSloc[1]], popup=htmlcode, tooltip=tooltip\n",
    "    ).add_to(map)"
   ]
  },
  {
   "cell_type": "code",
   "execution_count": null,
   "id": "5b9a3818",
   "metadata": {},
   "outputs": [],
   "source": [
    "df = pd.read_csv(\"SourceFiles\Location.csv\")\n",
    "\n",
    "# remove duplicate\n",
    "dup_mask = df.duplicated(subset=['longitude', 'latitude'], keep='first')\n",
    "df_no_dup = df[~dup_mask]\n",
    "\n",
    "\n",
    "coords = [(row.latitude, row.longitude) for _, row in df_no_dup.iterrows()]\n",
    "\n",
    "my_map = folium.Map(location=[df_no_dup.latitude.mean(), df_no_dup.longitude.mean()], zoom_start=13)\n",
    "folium.PolyLine(coords, color=\"blue\", weight=5.0).add_to(my_map)\n",
    "\n",
    "dir_path = \"SourceFiles\"\n",
    "Images = readFolder(dir_path)\n",
    "\n",
    "for item in Images:\n",
    "    addtoFoliumMap(my_map,item)\n",
    "my_map\n"
   ]
  },
  {
   "cell_type": "code",
   "execution_count": null,
   "id": "ebad11b3",
   "metadata": {},
   "outputs": [],
   "source": [
    "Images = readFolder (dir_path)\n",
    "ImgLoc = []\n",
    "metadata = []\n",
    "for item in Images:\n",
    "    df, DecimalGPS = readImagGPS(item)\n",
    "    ImgLoc.append(DecimalGPS)\n",
    "    metadata.append(metadata)"
   ]
  },
  {
   "cell_type": "code",
   "execution_count": null,
   "id": "89bd9880",
   "metadata": {},
   "outputs": [],
   "source": [
    "Index_ImgLoc = []\n",
    "check_dist = []\n",
    "for matchingC in ImgLoc:\n",
    "    temdist = []\n",
    "    for allC in Loc4Vib:\n",
    "        distance, bearing = HaversineFormula(allC, matchingC)\n",
    "        temdist.append(distance)    \n",
    "    miniDis = min(temdist)\n",
    "    #tempLoc = coords.index(temdist. index(miniDis))\n",
    "    Index_ImgLoc.append(temdist.index(miniDis))\n",
    "    check_dist.append(miniDis) \n",
    "    \n",
    "Time_ImgLoc = AcDist[Index_ImgLoc]\n",
    "print(Time_ImgLoc)"
   ]
  },
  {
   "cell_type": "code",
   "execution_count": null,
   "id": "cb64c7a1",
   "metadata": {},
   "outputs": [],
   "source": [
    "layout = go.Layout(title= \"Vibration vs Distance with image marked\")\n",
    "fig = go.Figure(layout=layout)\n",
    "for axis in ['x', 'y', 'z']:\n",
    "    fig.add_trace(go.Scatter(x = AcDist, y = Vibr_BL2_Locpf[axis], name = axis))\n",
    "    \n",
    "fig.add_trace(go.Scatter(x=Time_ImgLoc, y=len(Time_ImgLoc)*[0], mode = 'markers',name='Image Locations'))\n",
    "\n",
    "fig.show()"
   ]
  },
  {
   "cell_type": "markdown",
   "id": "bb47cb85",
   "metadata": {},
   "source": [
    "### define a window size and calculate each windows standard derivation"
   ]
  },
  {
   "cell_type": "code",
   "execution_count": null,
   "id": "f94b6cad",
   "metadata": {
    "scrolled": true
   },
   "outputs": [],
   "source": [
    "WdSize = 3 # in meters\n",
    "dist = WdSize\n",
    "MarkingMap = Vibr_BL2_Locpf.copy()\n",
    "while dist < AcDist[-1]:\n",
    "    wd = (AcDist > dist) & (AcDist < dist+WdSize)\n",
    "    sd = np.std(Vibr_BL2_Locpf.z[wd])\n",
    "    MarkingMap.z[wd] = sd\n",
    "    dist+=WdSize"
   ]
  },
  {
   "cell_type": "code",
   "execution_count": null,
   "id": "c149a40f",
   "metadata": {},
   "outputs": [],
   "source": [
    "import branca.colormap\n",
    "\n",
    "minm = np.min(MarkingMap.z)\n",
    "maxm = np.max(MarkingMap.z)\n",
    "\n",
    "colormap = branca.colormap.linear.YlOrRd_09.scale(minm,maxm).to_step(6)\n",
    "\n",
    "my_map = folium.Map(location=[51.88270833333333, -8.496402777777776], zoom_start=13)\n",
    "\n",
    "dir_path = os.getcwd()\n",
    "Images = readFolder (dir_path)\n",
    "folium.ColorLine(positions=Loc4Vib, colormap=colormap, weight=10, colors=MarkingMap.z).add_to(my_map)\n",
    "\n",
    "for item in Images:\n",
    "    addtoFoliumMap(my_map,item)\n",
    "    \n",
    "my_map"
   ]
  },
  {
   "cell_type": "code",
   "execution_count": null,
   "id": "f719eca1",
   "metadata": {},
   "outputs": [],
   "source": [
    "my_map"
   ]
  },
  {
   "cell_type": "code",
   "execution_count": null,
   "id": "b50634dc",
   "metadata": {},
   "outputs": [],
   "source": []
  }
 ],
 "metadata": {
  "kernelspec": {
   "display_name": "Python 3 (ipykernel)",
   "language": "python",
   "name": "python3"
  },
  "language_info": {
   "codemirror_mode": {
    "name": "ipython",
    "version": 3
   },
   "file_extension": ".py",
   "mimetype": "text/x-python",
   "name": "python",
   "nbconvert_exporter": "python",
   "pygments_lexer": "ipython3",
   "version": "3.10.11"
  }
 },
 "nbformat": 4,
 "nbformat_minor": 5
}
