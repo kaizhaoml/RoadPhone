{
 "cells": [
  {
   "cell_type": "code",
   "execution_count": 1,
   "id": "0b15055b",
   "metadata": {},
   "outputs": [],
   "source": [
    "import numpy as np\n",
    "import pandas as pd\n",
    "import math\n",
    "import os\n",
    "from scipy.signal import butter, sosfilt\n",
    "from scipy import fftpack # FFT analysis\n",
    "from scipy.stats import kurtosis\n",
    "from sklearn.cluster import BisectingKMeans, KMeans\n",
    "from sklearn.preprocessing import scale\n",
    "from numpy import genfromtxt\n",
    "from minisom import MiniSom \n",
    "import matplotlib.pyplot as plt\n",
    "from sklearn.gaussian_process.kernels import RBF, ConstantKernel as C, Product\n",
    "from sklearn.model_selection import GridSearchCV, train_test_split\n",
    "%matplotlib inline"
   ]
  },
  {
   "cell_type": "code",
   "execution_count": 2,
   "id": "3b7a6a21",
   "metadata": {},
   "outputs": [],
   "source": [
    "df = pd.read_csv(\"2023-04-17_11-30-08.csv\")"
   ]
  },
  {
   "cell_type": "code",
   "execution_count": 3,
   "id": "c16b129d",
   "metadata": {},
   "outputs": [],
   "source": [
    "data = pd.read_csv(\"stage2_label.csv\", names=['Start', 'End', 'damageType', 'label'])"
   ]
  },
  {
   "cell_type": "code",
   "execution_count": 4,
   "id": "ff3004d5",
   "metadata": {},
   "outputs": [],
   "source": [
    "samplesLoc = data[['Start', 'End']].values"
   ]
  },
  {
   "cell_type": "code",
   "execution_count": 5,
   "id": "73040b08",
   "metadata": {},
   "outputs": [],
   "source": [
    "Boxlist= pd.read_csv(\"stage2_Boxlist.csv\", names = ['start', 'end']) "
   ]
  },
  {
   "cell_type": "code",
   "execution_count": 6,
   "id": "f10e1f26",
   "metadata": {},
   "outputs": [],
   "source": [
    "samplesBoxlist = Boxlist[['start', 'end']].values.astype(int)"
   ]
  },
  {
   "cell_type": "code",
   "execution_count": 7,
   "id": "d4dc2229",
   "metadata": {},
   "outputs": [
    {
     "data": {
      "text/html": [
       "<div>\n",
       "<style scoped>\n",
       "    .dataframe tbody tr th:only-of-type {\n",
       "        vertical-align: middle;\n",
       "    }\n",
       "\n",
       "    .dataframe tbody tr th {\n",
       "        vertical-align: top;\n",
       "    }\n",
       "\n",
       "    .dataframe thead th {\n",
       "        text-align: right;\n",
       "    }\n",
       "</style>\n",
       "<table border=\"1\" class=\"dataframe\">\n",
       "  <thead>\n",
       "    <tr style=\"text-align: right;\">\n",
       "      <th></th>\n",
       "      <th>Start</th>\n",
       "      <th>End</th>\n",
       "      <th>damageType</th>\n",
       "      <th>label</th>\n",
       "    </tr>\n",
       "  </thead>\n",
       "  <tbody>\n",
       "    <tr>\n",
       "      <th>0</th>\n",
       "      <td>88.89</td>\n",
       "      <td>91.57</td>\n",
       "      <td>NaN</td>\n",
       "      <td>0</td>\n",
       "    </tr>\n",
       "    <tr>\n",
       "      <th>1</th>\n",
       "      <td>257.27</td>\n",
       "      <td>269.70</td>\n",
       "      <td>large crack</td>\n",
       "      <td>1</td>\n",
       "    </tr>\n",
       "    <tr>\n",
       "      <th>2</th>\n",
       "      <td>272.29</td>\n",
       "      <td>279.34</td>\n",
       "      <td>NaN</td>\n",
       "      <td>0</td>\n",
       "    </tr>\n",
       "    <tr>\n",
       "      <th>3</th>\n",
       "      <td>299.09</td>\n",
       "      <td>304.96</td>\n",
       "      <td>NaN</td>\n",
       "      <td>0</td>\n",
       "    </tr>\n",
       "    <tr>\n",
       "      <th>4</th>\n",
       "      <td>307.38</td>\n",
       "      <td>315.93</td>\n",
       "      <td>large crack</td>\n",
       "      <td>1</td>\n",
       "    </tr>\n",
       "    <tr>\n",
       "      <th>...</th>\n",
       "      <td>...</td>\n",
       "      <td>...</td>\n",
       "      <td>...</td>\n",
       "      <td>...</td>\n",
       "    </tr>\n",
       "    <tr>\n",
       "      <th>126</th>\n",
       "      <td>5455.33</td>\n",
       "      <td>5460.46</td>\n",
       "      <td>NaN</td>\n",
       "      <td>0</td>\n",
       "    </tr>\n",
       "    <tr>\n",
       "      <th>127</th>\n",
       "      <td>5475.40</td>\n",
       "      <td>5480.30</td>\n",
       "      <td>NaN</td>\n",
       "      <td>0</td>\n",
       "    </tr>\n",
       "    <tr>\n",
       "      <th>128</th>\n",
       "      <td>5575.35</td>\n",
       "      <td>5579.61</td>\n",
       "      <td>Pothole</td>\n",
       "      <td>4</td>\n",
       "    </tr>\n",
       "    <tr>\n",
       "      <th>129</th>\n",
       "      <td>5580.37</td>\n",
       "      <td>5585.86</td>\n",
       "      <td>large crack</td>\n",
       "      <td>1</td>\n",
       "    </tr>\n",
       "    <tr>\n",
       "      <th>130</th>\n",
       "      <td>5686.36</td>\n",
       "      <td>5689.29</td>\n",
       "      <td>NaN</td>\n",
       "      <td>0</td>\n",
       "    </tr>\n",
       "  </tbody>\n",
       "</table>\n",
       "<p>131 rows × 4 columns</p>\n",
       "</div>"
      ],
      "text/plain": [
       "       Start      End   damageType  label\n",
       "0      88.89    91.57          NaN      0\n",
       "1     257.27   269.70  large crack      1\n",
       "2     272.29   279.34          NaN      0\n",
       "3     299.09   304.96          NaN      0\n",
       "4     307.38   315.93  large crack      1\n",
       "..       ...      ...          ...    ...\n",
       "126  5455.33  5460.46          NaN      0\n",
       "127  5475.40  5480.30          NaN      0\n",
       "128  5575.35  5579.61      Pothole      4\n",
       "129  5580.37  5585.86  large crack      1\n",
       "130  5686.36  5689.29          NaN      0\n",
       "\n",
       "[131 rows x 4 columns]"
      ]
     },
     "execution_count": 7,
     "metadata": {},
     "output_type": "execute_result"
    }
   ],
   "source": [
    "data"
   ]
  },
  {
   "cell_type": "code",
   "execution_count": 8,
   "id": "ff7302b0",
   "metadata": {},
   "outputs": [],
   "source": [
    "# Z_std, Z_P2Pmax, ZXY_msa, Y_cf, std_psdZ, energy_psdZ\n",
    "\n",
    "def std(Array):\n",
    "    return np.std(Array)\n",
    "\n",
    "\n",
    "def P2Pmax(Array):\n",
    "    maxi = np.max(Array)\n",
    "    mini= np.min(Array)\n",
    "    return maxi-mini\n",
    "\n",
    "def sma(x,y,z):\n",
    "    squared_values = x**2 + y**2 + z**2 # Square the acceleration values\n",
    "    sma = np.sqrt(np.sum(squared_values))  # Sum and take the square root\n",
    "    return sma\n",
    "\n",
    "\n",
    "def energy(Array):\n",
    "    return (np.sqrt(np.mean(Array**2)))**2\n",
    "\n",
    "\n",
    "def cf(Array):\n",
    "    peak_value = np.max(np.abs(Array))  # Calculate the peak value (absolute maximum)\n",
    "    rms_value = np.sqrt(np.mean(Array**2))  # Calculate the RMS (Root Mean Square) value\n",
    "    crest_factor = peak_value / rms_value  # Calculate the Crest Factor\n",
    "    return crest_factor\n",
    "\n",
    "def absmean(Array):\n",
    "    absM = np.mean(abs(Array))\n",
    "    return absM"
   ]
  },
  {
   "cell_type": "code",
   "execution_count": 9,
   "id": "edc0e9fe",
   "metadata": {},
   "outputs": [],
   "source": [
    "def fft(Array):\n",
    "    n = len(Array)\n",
    "    f_hat = np.fft.fft(Array, n)\n",
    "    dt = 1/100\n",
    "    PSD = (f_hat * np.conj(f_hat) / n).real\n",
    "    freq = (1/(dt*n)) * np.arange(n)\n",
    "    L = np.arange(1, np.floor(n/2), dtype='int')\n",
    "    return PSD[L], freq[L]\n",
    "\n",
    "def butter_lowpass_filter1(data, lowcut, fs, order):\n",
    "    sos = butter(order, lowcut,'low', False, 'sos', fs)\n",
    "    filtered = sosfilt(sos, data)\n",
    "    return filtered\n",
    "def butter_highpass_filter1(data, highcut, fs, order):\n",
    "    sos = butter(order, highcut,'high', False, 'sos', fs)\n",
    "    filtered = sosfilt(sos, data)\n",
    "    return filtered"
   ]
  },
  {
   "cell_type": "code",
   "execution_count": 10,
   "id": "99d01c80",
   "metadata": {},
   "outputs": [],
   "source": [
    "# x: direction of horrizental, y: direction of vehicle moving\n",
    "FilteredX = butter_highpass_filter1(df[\"x\"].to_numpy(), 3, 100, 4)\n",
    "FilteredX = butter_lowpass_filter1(FilteredX, 19, 100, 4)\n",
    "df[\"x\"]= FilteredX\n",
    "\n",
    "FilteredY = butter_highpass_filter1(df[\"y\"].to_numpy(), 3, 100, 4)\n",
    "FilteredY = butter_lowpass_filter1(FilteredY, 19, 100, 4)\n",
    "df[\"y\"]= FilteredY\n",
    "\n",
    "FilteredZ = butter_highpass_filter1(df[\"z\"].to_numpy(), 3, 100, 4)\n",
    "FilteredZ = butter_lowpass_filter1(FilteredZ, 19, 100, 4)\n",
    "df[\"z\"]= FilteredZ\n",
    "\n",
    "psd_z, freq_z = fft(FilteredZ)\n",
    "psd_x, freq_x = fft(FilteredX)\n",
    "psd_y, freq_y = fft(FilteredY)\n",
    "\n",
    "# df['psd_x'] = psd_x\n",
    "# df['psd_y'] = psd_y\n",
    "# df['psd_z'] = psd_z\n"
   ]
  },
  {
   "cell_type": "code",
   "execution_count": 11,
   "id": "9d915fc2",
   "metadata": {},
   "outputs": [],
   "source": [
    "vibDataX = df[['x']].values\n",
    "samplesX = [vibDataX[start:end + 1] for start, end in samplesBoxlist]\n",
    "\n",
    "vibDataY = df[['y']].values\n",
    "samplesY = [vibDataY[start:end + 1] for start, end in samplesBoxlist]\n",
    "\n",
    "vibDataZ = df[['z']].values\n",
    "samplesZ = [vibDataZ[start:end + 1] for start, end in samplesBoxlist]"
   ]
  },
  {
   "cell_type": "code",
   "execution_count": 12,
   "id": "5e2db252",
   "metadata": {},
   "outputs": [],
   "source": [
    "length = samplesLoc[:,1]-samplesLoc[:,0]"
   ]
  },
  {
   "cell_type": "code",
   "execution_count": 13,
   "id": "b4534871",
   "metadata": {},
   "outputs": [],
   "source": [
    "bumpPara = np.zeros(len(samplesZ))\n",
    "for icount, ivalue in enumerate(samplesZ):\n",
    "    for point in ivalue:\n",
    "        if abs(point)>1.8:\n",
    "            if point<0:\n",
    "                bumpPara[icount] = -1\n",
    "            else:\n",
    "                bumpPara[icount] = 1\n",
    "            break"
   ]
  },
  {
   "cell_type": "code",
   "execution_count": 14,
   "id": "eda7ec89",
   "metadata": {},
   "outputs": [
    {
     "data": {
      "text/plain": [
       "array([ 0.,  0.,  0.,  0., -1.,  1., -1.,  0.,  0.,  0.,  1.,  0.,  0.,\n",
       "       -1.,  0.,  0.,  0.,  0.,  0., -1.,  0.,  1.,  0.,  1.,  0.,  0.,\n",
       "        0.,  0.,  0.,  0.,  0.,  0.,  0.,  0., -1., -1.,  0., -1.,  0.,\n",
       "        0.,  0.,  0.,  0.,  0.,  0.,  0.,  0.,  0.,  0.,  0.,  0., -1.,\n",
       "        0.,  0.,  0.,  0.,  1.,  0.,  0.,  1., -1.,  0., -1., -1.,  0.,\n",
       "       -1.,  0., -1.,  1.,  1., -1.,  0.,  1.,  0.,  0.,  1., -1.,  0.,\n",
       "        1., -1.,  0.,  0.,  0.,  0.,  0.,  0., -1.,  0., -1., -1.,  1.,\n",
       "        0.,  0.,  0.,  0.,  0.,  1., -1.,  1.,  0.,  0.,  1., -1.,  0.,\n",
       "        0.,  0.,  0.,  0., -1.,  1.,  0., -1.,  0.,  1., -1.,  0.,  0.,\n",
       "       -1., -1., -1.,  0.,  0., -1.,  1.,  0.,  0.,  0.,  0., -1., -1.,\n",
       "        0.])"
      ]
     },
     "execution_count": 14,
     "metadata": {},
     "output_type": "execute_result"
    }
   ],
   "source": [
    "bumpPara"
   ]
  },
  {
   "cell_type": "code",
   "execution_count": 15,
   "id": "0e0c5201",
   "metadata": {},
   "outputs": [],
   "source": [
    "features = np.array([])\n",
    "for count, (i, j ,k) in enumerate(zip(samplesX, samplesY, samplesZ)):\n",
    "    features = np.concatenate([features, np.array([std(k),P2Pmax(k),absmean(k), sma(i,j,k), P2Pmax(k)/length[count], length[count], bumpPara[count]])])\n",
    "features = features.reshape(-1,7)"
   ]
  },
  {
   "cell_type": "code",
   "execution_count": 16,
   "id": "e8fac791",
   "metadata": {},
   "outputs": [
    {
     "data": {
      "text/plain": [
       "0.26194341695517265"
      ]
     },
     "execution_count": 16,
     "metadata": {},
     "output_type": "execute_result"
    }
   ],
   "source": [
    "P2Pmax(samplesZ[1])/length[1]"
   ]
  },
  {
   "cell_type": "code",
   "execution_count": 17,
   "id": "d70a59d5",
   "metadata": {},
   "outputs": [],
   "source": [
    "# features = np.hstack((features,length.reshape(-1, 1),bumpPara.reshape(-1, 1)))\n",
    "\n",
    "feature_names = ['stdZ', 'P2PmaxZ', 'absmeanZ', 'SMA', 'slend ratio','length', 'bumppara']"
   ]
  },
  {
   "cell_type": "code",
   "execution_count": 18,
   "id": "09076ac0",
   "metadata": {},
   "outputs": [],
   "source": [
    "y = data.label.to_numpy()"
   ]
  },
  {
   "cell_type": "code",
   "execution_count": 19,
   "id": "9e144eda",
   "metadata": {},
   "outputs": [],
   "source": [
    "y[y==3]=1\n",
    "# y[y==4]=1\n",
    "# y[y==2]=1"
   ]
  },
  {
   "cell_type": "code",
   "execution_count": 20,
   "id": "45a69300",
   "metadata": {},
   "outputs": [
    {
     "data": {
      "text/plain": [
       "array([0, 1, 0, 0, 1, 2, 1, 0, 0, 0, 2, 1, 0, 1, 0, 0, 1, 0, 1, 1, 0, 1,\n",
       "       0, 2, 1, 1, 0, 0, 0, 0, 0, 0, 0, 0, 4, 4, 0, 4, 0, 0, 1, 0, 0, 0,\n",
       "       1, 0, 1, 0, 1, 0, 0, 1, 0, 0, 0, 0, 1, 0, 0, 2, 2, 1, 1, 1, 0, 2,\n",
       "       0, 2, 2, 1, 1, 0, 0, 0, 0, 4, 4, 1, 2, 2, 0, 1, 0, 0, 0, 0, 0, 0,\n",
       "       1, 1, 2, 1, 0, 1, 0, 0, 2, 1, 2, 1, 1, 2, 1, 0, 1, 0, 0, 0, 4, 4,\n",
       "       0, 1, 0, 2, 4, 0, 0, 4, 1, 4, 0, 0, 1, 2, 0, 0, 0, 0, 4, 1, 0],\n",
       "      dtype=int64)"
      ]
     },
     "execution_count": 20,
     "metadata": {},
     "output_type": "execute_result"
    }
   ],
   "source": [
    "y"
   ]
  },
  {
   "cell_type": "code",
   "execution_count": 21,
   "id": "d25b4c34",
   "metadata": {},
   "outputs": [
    {
     "data": {
      "text/plain": [
       "11"
      ]
     },
     "execution_count": 21,
     "metadata": {},
     "output_type": "execute_result"
    }
   ],
   "source": [
    "np.sum(y==4)"
   ]
  },
  {
   "cell_type": "code",
   "execution_count": 33,
   "id": "8941f24f",
   "metadata": {},
   "outputs": [],
   "source": [
    "X_train, X_test, y_train, y_test = train_test_split(features, y, test_size=0.3, random_state=22, shuffle=False)"
   ]
  },
  {
   "cell_type": "code",
   "execution_count": 34,
   "id": "8131ea31",
   "metadata": {},
   "outputs": [],
   "source": [
    "from sklearn.ensemble import RandomForestClassifier # randomForest\n",
    "from sklearn.metrics import classification_report, confusion_matrix\n",
    "model = RandomForestClassifier(random_state=11, max_depth=5, n_estimators=60)#,class_weight='balanced_subsample') # Random state for reproducibility (same results every time)\n",
    "# classifier training\n",
    "fit = model.fit(X_train, y_train)"
   ]
  },
  {
   "cell_type": "code",
   "execution_count": 35,
   "id": "291eb6a5",
   "metadata": {},
   "outputs": [],
   "source": [
    "y_train_pred = model.predict(X_train)\n",
    "\n",
    "y_test_pred = model.predict(X_test)"
   ]
  },
  {
   "cell_type": "code",
   "execution_count": 36,
   "id": "1d780310",
   "metadata": {},
   "outputs": [],
   "source": [
    "def printClassResults(train, train_predicted, types):\n",
    "    print(\"----\",types, \" -------\\n\")\n",
    "    print(classification_report(train, train_predicted))\n",
    "    print(confusion_matrix(train, train_predicted))\n"
   ]
  },
  {
   "cell_type": "code",
   "execution_count": 37,
   "id": "3a42afdb",
   "metadata": {},
   "outputs": [
    {
     "name": "stdout",
     "output_type": "stream",
     "text": [
      "----TRAIN RESULTS -------\n",
      "\n",
      "              precision    recall  f1-score   support\n",
      "\n",
      "           0       0.98      0.98      0.98        49\n",
      "           1       0.93      0.96      0.94        26\n",
      "           2       0.91      0.91      0.91        11\n",
      "           4       1.00      0.80      0.89         5\n",
      "\n",
      "    accuracy                           0.96        91\n",
      "   macro avg       0.95      0.91      0.93        91\n",
      "weighted avg       0.96      0.96      0.96        91\n",
      "\n",
      "[[48  1  0  0]\n",
      " [ 1 25  0  0]\n",
      " [ 0  1 10  0]\n",
      " [ 0  0  1  4]]\n",
      "\n",
      "\n",
      "----TEST RESULTS -------\n",
      "\n",
      "              precision    recall  f1-score   support\n",
      "\n",
      "           0       0.89      0.94      0.92        18\n",
      "           1       0.82      0.82      0.82        11\n",
      "           2       1.00      1.00      1.00         5\n",
      "           4       0.80      0.67      0.73         6\n",
      "\n",
      "    accuracy                           0.88        40\n",
      "   macro avg       0.88      0.86      0.87        40\n",
      "weighted avg       0.87      0.88      0.87        40\n",
      "\n",
      "[[17  0  0  1]\n",
      " [ 2  9  0  0]\n",
      " [ 0  0  5  0]\n",
      " [ 0  2  0  4]]\n"
     ]
    }
   ],
   "source": [
    "print(\"----TRAIN RESULTS -------\\n\")\n",
    "print(classification_report(y_train, y_train_pred))\n",
    "print(confusion_matrix(y_train, y_train_pred))\n",
    "\n",
    "print(\"\\n\\n----TEST RESULTS -------\\n\")\n",
    "print(classification_report(y_test, y_test_pred))\n",
    "print(confusion_matrix(y_test, y_test_pred))"
   ]
  },
  {
   "cell_type": "code",
   "execution_count": 38,
   "id": "24991e30",
   "metadata": {},
   "outputs": [],
   "source": [
    "import pickle\n",
    "with open('s2model.pkl','wb') as f:\n",
    "    pickle.dump(model,f)"
   ]
  },
  {
   "cell_type": "code",
   "execution_count": 39,
   "id": "ca9f1c90",
   "metadata": {},
   "outputs": [],
   "source": [
    "with open('s2model.pkl', 'rb') as f:\n",
    "    model2 = pickle.load(f)"
   ]
  },
  {
   "cell_type": "code",
   "execution_count": 40,
   "id": "e575762f",
   "metadata": {},
   "outputs": [],
   "source": [
    "y_predict = model2.predict(features)"
   ]
  },
  {
   "cell_type": "code",
   "execution_count": 32,
   "id": "62ac8bde",
   "metadata": {
    "scrolled": true
   },
   "outputs": [
    {
     "name": "stdout",
     "output_type": "stream",
     "text": [
      "\n",
      "\n",
      "----TEST RESULTS -------\n",
      "\n",
      "              precision    recall  f1-score   support\n",
      "\n",
      "           0       0.96      0.97      0.96        67\n",
      "           1       0.89      0.92      0.91        37\n",
      "           2       0.94      0.94      0.94        16\n",
      "           4       0.89      0.73      0.80        11\n",
      "\n",
      "    accuracy                           0.93       131\n",
      "   macro avg       0.92      0.89      0.90       131\n",
      "weighted avg       0.93      0.93      0.93       131\n",
      "\n",
      "[[65  1  0  1]\n",
      " [ 3 34  0  0]\n",
      " [ 0  1 15  0]\n",
      " [ 0  2  1  8]]\n"
     ]
    }
   ],
   "source": [
    "print(\"\\n\\n----TEST RESULTS -------\\n\")\n",
    "print(classification_report(y, y_predict))\n",
    "print(confusion_matrix(y, y_predict))\n"
   ]
  },
  {
   "cell_type": "code",
   "execution_count": 27,
   "id": "9896a7d3",
   "metadata": {},
   "outputs": [],
   "source": [
    "from sklearn.ensemble import RandomForestClassifier\n",
    "\n",
    "forest = RandomForestClassifier(random_state=0)\n",
    "forest.fit(X_train, y_train)\n",
    "importances = forest.feature_importances_\n",
    "std = np.std([tree.feature_importances_ for tree in forest.estimators_], axis=0)"
   ]
  },
  {
   "cell_type": "code",
   "execution_count": 28,
   "id": "aeede173",
   "metadata": {},
   "outputs": [
    {
     "data": {
      "image/png": "[encoded data removed]",
      "text/plain": [
       "<Figure size 640x480 with 1 Axes>"
      ]
     },
     "metadata": {},
     "output_type": "display_data"
    }
   ],
   "source": [
    "forest_importances = pd.Series(importances, index=feature_names)\n",
    "\n",
    "fig, ax = plt.subplots()\n",
    "forest_importances.plot.bar(yerr=std, ax=ax)\n",
    "ax.set_title(\"Feature importances using MDI\")\n",
    "ax.set_ylabel(\"Mean decrease in impurity\")\n",
    "fig.tight_layout()"
   ]
  },
  {
   "cell_type": "code",
   "execution_count": 29,
   "id": "ba9d3a96",
   "metadata": {},
   "outputs": [],
   "source": [
    "##### default length scale range : 0 - 1e5\n",
    "##### "
   ]
  },
  {
   "cell_type": "code",
   "execution_count": 41,
   "id": "210aac72",
   "metadata": {
    "scrolled": false
   },
   "outputs": [
    {
     "name": "stderr",
     "output_type": "stream",
     "text": [
      "C:\\Users\\kzhao\\anaconda3\\lib\\site-packages\\sklearn\\gaussian_process\\kernels.py:430: ConvergenceWarning: The optimal value found for dimension 0 of parameter k2__length_scale is close to the specified upper bound 100000.0. Increasing the bound and calling fit again may find a better value.\n",
      "  warnings.warn(\n",
      "C:\\Users\\kzhao\\anaconda3\\lib\\site-packages\\sklearn\\gaussian_process\\kernels.py:430: ConvergenceWarning: The optimal value found for dimension 3 of parameter k2__length_scale is close to the specified upper bound 100000.0. Increasing the bound and calling fit again may find a better value.\n",
      "  warnings.warn(\n",
      "C:\\Users\\kzhao\\anaconda3\\lib\\site-packages\\sklearn\\gaussian_process\\kernels.py:430: ConvergenceWarning: The optimal value found for dimension 5 of parameter k2__length_scale is close to the specified upper bound 100000.0. Increasing the bound and calling fit again may find a better value.\n",
      "  warnings.warn(\n",
      "C:\\Users\\kzhao\\anaconda3\\lib\\site-packages\\sklearn\\gaussian_process\\kernels.py:430: ConvergenceWarning: The optimal value found for dimension 6 of parameter k2__length_scale is close to the specified upper bound 100000.0. Increasing the bound and calling fit again may find a better value.\n",
      "  warnings.warn(\n",
      "C:\\Users\\kzhao\\anaconda3\\lib\\site-packages\\sklearn\\gaussian_process\\kernels.py:430: ConvergenceWarning: The optimal value found for dimension 5 of parameter k2__length_scale is close to the specified upper bound 100000.0. Increasing the bound and calling fit again may find a better value.\n",
      "  warnings.warn(\n",
      "C:\\Users\\kzhao\\anaconda3\\lib\\site-packages\\sklearn\\gaussian_process\\kernels.py:430: ConvergenceWarning: The optimal value found for dimension 1 of parameter k2__length_scale is close to the specified upper bound 100000.0. Increasing the bound and calling fit again may find a better value.\n",
      "  warnings.warn(\n",
      "C:\\Users\\kzhao\\anaconda3\\lib\\site-packages\\sklearn\\gaussian_process\\kernels.py:430: ConvergenceWarning: The optimal value found for dimension 2 of parameter k2__length_scale is close to the specified upper bound 100000.0. Increasing the bound and calling fit again may find a better value.\n",
      "  warnings.warn(\n",
      "C:\\Users\\kzhao\\anaconda3\\lib\\site-packages\\sklearn\\gaussian_process\\kernels.py:430: ConvergenceWarning: The optimal value found for dimension 3 of parameter k2__length_scale is close to the specified upper bound 100000.0. Increasing the bound and calling fit again may find a better value.\n",
      "  warnings.warn(\n",
      "C:\\Users\\kzhao\\anaconda3\\lib\\site-packages\\sklearn\\gaussian_process\\kernels.py:430: ConvergenceWarning: The optimal value found for dimension 4 of parameter k2__length_scale is close to the specified upper bound 100000.0. Increasing the bound and calling fit again may find a better value.\n",
      "  warnings.warn(\n"
     ]
    },
    {
     "name": "stdout",
     "output_type": "stream",
     "text": [
      "---- 0Train  -------\n",
      "\n",
      "              precision    recall  f1-score   support\n",
      "\n",
      "           0       0.91      0.98      0.94        49\n",
      "           1       0.61      0.88      0.72        26\n",
      "           2       0.00      0.00      0.00        11\n",
      "           4       0.00      0.00      0.00         5\n",
      "\n",
      "    accuracy                           0.78        91\n",
      "   macro avg       0.38      0.47      0.41        91\n",
      "weighted avg       0.66      0.78      0.71        91\n",
      "\n",
      "[[48  1  0  0]\n",
      " [ 3 23  0  0]\n",
      " [ 1 10  0  0]\n",
      " [ 1  4  0  0]]\n",
      "---- 0Test  -------\n",
      "\n",
      "              precision    recall  f1-score   support\n",
      "\n",
      "           0       0.86      1.00      0.92        18\n",
      "           1       0.42      0.73      0.53        11\n",
      "           2       0.00      0.00      0.00         5\n",
      "           4       0.00      0.00      0.00         6\n",
      "\n",
      "    accuracy                           0.65        40\n",
      "   macro avg       0.32      0.43      0.36        40\n",
      "weighted avg       0.50      0.65      0.56        40\n",
      "\n",
      "[[18  0  0  0]\n",
      " [ 3  8  0  0]\n",
      " [ 0  5  0  0]\n",
      " [ 0  6  0  0]]\n",
      "---- 1Train  -------\n",
      "\n",
      "              precision    recall  f1-score   support\n",
      "\n",
      "           0       0.92      0.98      0.95        49\n",
      "           1       0.92      0.88      0.90        26\n",
      "           2       1.00      0.82      0.90        11\n",
      "           4       0.80      0.80      0.80         5\n",
      "\n",
      "    accuracy                           0.92        91\n",
      "   macro avg       0.91      0.87      0.89        91\n",
      "weighted avg       0.92      0.92      0.92        91\n",
      "\n",
      "[[48  1  0  0]\n",
      " [ 3 23  0  0]\n",
      " [ 0  1  9  1]\n",
      " [ 1  0  0  4]]\n",
      "---- 1Test  -------\n",
      "\n",
      "              precision    recall  f1-score   support\n",
      "\n",
      "           0       0.84      0.89      0.86        18\n",
      "           1       0.80      0.73      0.76        11\n",
      "           2       1.00      1.00      1.00         5\n",
      "           4       1.00      1.00      1.00         6\n",
      "\n",
      "    accuracy                           0.88        40\n",
      "   macro avg       0.91      0.90      0.91        40\n",
      "weighted avg       0.87      0.88      0.87        40\n",
      "\n",
      "[[16  2  0  0]\n",
      " [ 3  8  0  0]\n",
      " [ 0  0  5  0]\n",
      " [ 0  0  0  6]]\n"
     ]
    },
    {
     "name": "stderr",
     "output_type": "stream",
     "text": [
      "C:\\Users\\kzhao\\anaconda3\\lib\\site-packages\\sklearn\\gaussian_process\\kernels.py:430: ConvergenceWarning: The optimal value found for dimension 0 of parameter k2__length_scale is close to the specified upper bound 100000.0. Increasing the bound and calling fit again may find a better value.\n",
      "  warnings.warn(\n",
      "C:\\Users\\kzhao\\anaconda3\\lib\\site-packages\\sklearn\\gaussian_process\\kernels.py:430: ConvergenceWarning: The optimal value found for dimension 3 of parameter k2__length_scale is close to the specified upper bound 100000.0. Increasing the bound and calling fit again may find a better value.\n",
      "  warnings.warn(\n",
      "C:\\Users\\kzhao\\anaconda3\\lib\\site-packages\\sklearn\\gaussian_process\\kernels.py:430: ConvergenceWarning: The optimal value found for dimension 5 of parameter k2__length_scale is close to the specified upper bound 100000.0. Increasing the bound and calling fit again may find a better value.\n",
      "  warnings.warn(\n",
      "C:\\Users\\kzhao\\anaconda3\\lib\\site-packages\\sklearn\\metrics\\_classification.py:1344: UndefinedMetricWarning: Precision and F-score are ill-defined and being set to 0.0 in labels with no predicted samples. Use `zero_division` parameter to control this behavior.\n",
      "  _warn_prf(average, modifier, msg_start, len(result))\n",
      "C:\\Users\\kzhao\\anaconda3\\lib\\site-packages\\sklearn\\metrics\\_classification.py:1344: UndefinedMetricWarning: Precision and F-score are ill-defined and being set to 0.0 in labels with no predicted samples. Use `zero_division` parameter to control this behavior.\n",
      "  _warn_prf(average, modifier, msg_start, len(result))\n",
      "C:\\Users\\kzhao\\anaconda3\\lib\\site-packages\\sklearn\\metrics\\_classification.py:1344: UndefinedMetricWarning: Precision and F-score are ill-defined and being set to 0.0 in labels with no predicted samples. Use `zero_division` parameter to control this behavior.\n",
      "  _warn_prf(average, modifier, msg_start, len(result))\n",
      "C:\\Users\\kzhao\\anaconda3\\lib\\site-packages\\sklearn\\metrics\\_classification.py:1344: UndefinedMetricWarning: Precision and F-score are ill-defined and being set to 0.0 in labels with no predicted samples. Use `zero_division` parameter to control this behavior.\n",
      "  _warn_prf(average, modifier, msg_start, len(result))\n",
      "C:\\Users\\kzhao\\anaconda3\\lib\\site-packages\\sklearn\\metrics\\_classification.py:1344: UndefinedMetricWarning: Precision and F-score are ill-defined and being set to 0.0 in labels with no predicted samples. Use `zero_division` parameter to control this behavior.\n",
      "  _warn_prf(average, modifier, msg_start, len(result))\n",
      "C:\\Users\\kzhao\\anaconda3\\lib\\site-packages\\sklearn\\metrics\\_classification.py:1344: UndefinedMetricWarning: Precision and F-score are ill-defined and being set to 0.0 in labels with no predicted samples. Use `zero_division` parameter to control this behavior.\n",
      "  _warn_prf(average, modifier, msg_start, len(result))\n"
     ]
    }
   ],
   "source": [
    "from sklearn.mixture import GaussianMixture\n",
    "\n",
    "from sklearn.gaussian_process import GaussianProcessClassifier\n",
    "from sklearn.gaussian_process.kernels import RBF\n",
    "\n",
    "\n",
    "kernel = C(1.0, (1e-5, 1e5)) * RBF([1.0])\n",
    "gpc_rbf_isotropic = GaussianProcessClassifier(kernel=kernel).fit(X_train, y_train)\n",
    "kernel = C(1.0, (1e-5, 1e5)) * RBF([1.0, 1.0,1.0,1.0,1.0,1.0,1.0])\n",
    "gpc_rbf_anisotropic = GaussianProcessClassifier(kernel=kernel, n_restarts_optimizer = 6, ).fit(X_train, y_train)\n",
    "\n",
    "titles = [\"Isotropic RBF\", \"Anisotropic RBF\"]\n",
    "\n",
    "for i, clf in enumerate((gpc_rbf_isotropic, gpc_rbf_anisotropic)):\n",
    "    # Plot the predicted probabilities. For that, we will assign a color to\n",
    "    # each point in the mesh [x_min, m_max]x[y_min, y_max].\n",
    "    \n",
    "    Z = clf.predict_proba(X_train)\n",
    "    M = clf.predict(X_train)\n",
    "\n",
    "    printClassResults(y_train, M, str(i) + 'Train')\n",
    "    \n",
    "    Z = clf.predict_proba(X_test)\n",
    "    M = clf.predict(X_test)\n",
    "    printClassResults(y_test, M, str(i) + 'Test')"
   ]
  },
  {
   "cell_type": "code",
   "execution_count": 42,
   "id": "ac7d79fd",
   "metadata": {},
   "outputs": [],
   "source": [
    "import pickle\n",
    "with open('s2model.pkl','wb') as f:\n",
    "    pickle.dump(gpc_rbf_anisotropic,f)"
   ]
  },
  {
   "cell_type": "code",
   "execution_count": 43,
   "id": "dcc0e8eb",
   "metadata": {},
   "outputs": [],
   "source": [
    "with open('s2model.pkl', 'rb') as f:\n",
    "    model2 = pickle.load(f)"
   ]
  },
  {
   "cell_type": "code",
   "execution_count": 45,
   "id": "88c7ff2a",
   "metadata": {},
   "outputs": [
    {
     "data": {
      "text/plain": [
       "[11.7**2 * RBF(length_scale=[1e+05, 1.54, 1.2, 1e+05, 1.86, 1e+05, 1e+05]),\n",
       " 4.42**2 * RBF(length_scale=[7.99e+03, 0.895, 0.278, 1.93e+04, 1.14, 1e+05, 1.06]),\n",
       " 6.36**2 * RBF(length_scale=[5.21e+03, 1e+05, 1e+05, 1e+05, 1e+05, 14, 0.107]),\n",
       " 6.75**2 * RBF(length_scale=[1e+05, 2.74, 0.956, 1e+05, 1.41, 1e+05, 1.69e+04])]"
      ]
     },
     "execution_count": 45,
     "metadata": {},
     "output_type": "execute_result"
    }
   ],
   "source": [
    "model2.kernel_.kernels"
   ]
  },
  {
   "cell_type": "code",
   "execution_count": 31,
   "id": "1f6cfcb3",
   "metadata": {},
   "outputs": [
    {
     "data": {
      "text/plain": [
       "[11.7**2 * RBF(length_scale=[7.1e+03, 1.54, 1.2, 1e+05, 1.86, 1e+05, 1e+05]),\n",
       " 4.42**2 * RBF(length_scale=[7.99e+03, 0.895, 0.278, 1.93e+04, 1.14, 1e+05, 1.06]),\n",
       " 6.1**2 * RBF(length_scale=[1e+05, 4.48e+03, 1e+05, 9.99e+04, 1e+05, 14, 0.509]),\n",
       " 6.75**2 * RBF(length_scale=[6.17e+04, 2.74, 0.956, 9.51e+04, 1.41, 9.67e+04, 1e+05])]"
      ]
     },
     "execution_count": 31,
     "metadata": {},
     "output_type": "execute_result"
    }
   ],
   "source": [
    "gpc_rbf_anisotropic.kernel_.kernels"
   ]
  },
  {
   "cell_type": "code",
   "execution_count": 32,
   "id": "9ba1ac69",
   "metadata": {},
   "outputs": [
    {
     "data": {
      "text/plain": [
       "(40, 7)"
      ]
     },
     "execution_count": 32,
     "metadata": {},
     "output_type": "execute_result"
    }
   ],
   "source": [
    "X_test.shape"
   ]
  },
  {
   "cell_type": "code",
   "execution_count": 33,
   "id": "ddd25e6b",
   "metadata": {
    "scrolled": true
   },
   "outputs": [
    {
     "data": {
      "text/plain": [
       "array([[0.069105  , 0.86900293, 0.05109154, 0.01080053],\n",
       "       [0.66178985, 0.30677821, 0.01990572, 0.01152622],\n",
       "       [0.79961133, 0.16628149, 0.02160608, 0.01250111],\n",
       "       [0.56777796, 0.38239054, 0.03747973, 0.01235178],\n",
       "       [0.3276138 , 0.5920534 , 0.02364725, 0.05668555],\n",
       "       [0.17674828, 0.21154748, 0.33639096, 0.27531328],\n",
       "       [0.02298962, 0.70683066, 0.12269121, 0.14748851],\n",
       "       [0.11456062, 0.10880918, 0.42120637, 0.35542384],\n",
       "       [0.67721373, 0.29088185, 0.02086465, 0.01103977],\n",
       "       [0.16652067, 0.78021798, 0.04293512, 0.01032623],\n",
       "       [0.17430682, 0.23443481, 0.42030434, 0.17095403],\n",
       "       [0.24402602, 0.36374136, 0.12058291, 0.27164971],\n",
       "       [0.92464199, 0.02711311, 0.02650152, 0.02174338],\n",
       "       [0.49604629, 0.47444025, 0.02067932, 0.00883414],\n",
       "       [0.92681923, 0.01721301, 0.02914495, 0.02682282],\n",
       "       [0.79815887, 0.16898747, 0.02093694, 0.01191672],\n",
       "       [0.80657795, 0.15944666, 0.02135322, 0.01262218],\n",
       "       [0.09503184, 0.2933982 , 0.12741738, 0.48415258],\n",
       "       [0.15820844, 0.26052039, 0.0971052 , 0.48416597],\n",
       "       [0.68943961, 0.24315847, 0.02158592, 0.045816  ],\n",
       "       [0.02440726, 0.69395884, 0.20838165, 0.07325226],\n",
       "       [0.77340543, 0.18001855, 0.02043044, 0.02614557],\n",
       "       [0.03025207, 0.08563934, 0.83060202, 0.05350656],\n",
       "       [0.22361468, 0.2345996 , 0.09477345, 0.44701227],\n",
       "       [0.39017323, 0.57008179, 0.02111253, 0.01863245],\n",
       "       [0.92914911, 0.01428264, 0.02895247, 0.02761578],\n",
       "       [0.07312874, 0.33927513, 0.12167116, 0.46592497],\n",
       "       [0.04102797, 0.4786069 , 0.41834248, 0.06202265],\n",
       "       [0.12354968, 0.34585923, 0.07308741, 0.45750368],\n",
       "       [0.70922582, 0.11080059, 0.02165224, 0.15832135],\n",
       "       [0.85731093, 0.1016829 , 0.02127075, 0.01973541],\n",
       "       [0.02349311, 0.70375919, 0.11963217, 0.15311554],\n",
       "       [0.10005619, 0.11321309, 0.61508831, 0.17164241],\n",
       "       [0.88883791, 0.02473397, 0.02774534, 0.05868278],\n",
       "       [0.77206648, 0.14440874, 0.06390148, 0.0196233 ],\n",
       "       [0.91198903, 0.04932009, 0.02079654, 0.01789434],\n",
       "       [0.91179911, 0.0537662 , 0.021275  , 0.0131597 ],\n",
       "       [0.06635736, 0.30268279, 0.10243875, 0.52852111],\n",
       "       [0.02562966, 0.81858128, 0.11728949, 0.03849957],\n",
       "       [0.80370918, 0.13136601, 0.02272611, 0.0421987 ]])"
      ]
     },
     "execution_count": 33,
     "metadata": {},
     "output_type": "execute_result"
    }
   ],
   "source": [
    "gpc_rbf_anisotropic.predict_proba(X_test)"
   ]
  },
  {
   "cell_type": "code",
   "execution_count": 34,
   "id": "2db215d5",
   "metadata": {
    "scrolled": true
   },
   "outputs": [
    {
     "name": "stderr",
     "output_type": "stream",
     "text": [
      "C:\\Users\\kzhao\\anaconda3\\lib\\site-packages\\sklearn\\gaussian_process\\kernels.py:430: ConvergenceWarning: The optimal value found for dimension 0 of parameter k2__length_scale is close to the specified upper bound 100000.0. Increasing the bound and calling fit again may find a better value.\n",
      "  warnings.warn(\n",
      "C:\\Users\\kzhao\\anaconda3\\lib\\site-packages\\sklearn\\gaussian_process\\kernels.py:430: ConvergenceWarning: The optimal value found for dimension 3 of parameter k2__length_scale is close to the specified upper bound 100000.0. Increasing the bound and calling fit again may find a better value.\n",
      "  warnings.warn(\n",
      "C:\\Users\\kzhao\\anaconda3\\lib\\site-packages\\sklearn\\gaussian_process\\kernels.py:430: ConvergenceWarning: The optimal value found for dimension 5 of parameter k2__length_scale is close to the specified upper bound 100000.0. Increasing the bound and calling fit again may find a better value.\n",
      "  warnings.warn(\n",
      "C:\\Users\\kzhao\\anaconda3\\lib\\site-packages\\sklearn\\gaussian_process\\kernels.py:430: ConvergenceWarning: The optimal value found for dimension 6 of parameter k2__length_scale is close to the specified upper bound 100000.0. Increasing the bound and calling fit again may find a better value.\n",
      "  warnings.warn(\n",
      "C:\\Users\\kzhao\\anaconda3\\lib\\site-packages\\sklearn\\gaussian_process\\kernels.py:430: ConvergenceWarning: The optimal value found for dimension 0 of parameter k2__length_scale is close to the specified upper bound 100000.0. Increasing the bound and calling fit again may find a better value.\n",
      "  warnings.warn(\n",
      "C:\\Users\\kzhao\\anaconda3\\lib\\site-packages\\sklearn\\gaussian_process\\kernels.py:430: ConvergenceWarning: The optimal value found for dimension 5 of parameter k2__length_scale is close to the specified upper bound 100000.0. Increasing the bound and calling fit again may find a better value.\n",
      "  warnings.warn(\n",
      "C:\\Users\\kzhao\\anaconda3\\lib\\site-packages\\sklearn\\gaussian_process\\kernels.py:430: ConvergenceWarning: The optimal value found for dimension 1 of parameter k2__length_scale is close to the specified upper bound 100000.0. Increasing the bound and calling fit again may find a better value.\n",
      "  warnings.warn(\n",
      "C:\\Users\\kzhao\\anaconda3\\lib\\site-packages\\sklearn\\gaussian_process\\kernels.py:430: ConvergenceWarning: The optimal value found for dimension 0 of parameter k2__length_scale is close to the specified upper bound 100000.0. Increasing the bound and calling fit again may find a better value.\n",
      "  warnings.warn(\n",
      "C:\\Users\\kzhao\\anaconda3\\lib\\site-packages\\sklearn\\gaussian_process\\kernels.py:430: ConvergenceWarning: The optimal value found for dimension 4 of parameter k2__length_scale is close to the specified upper bound 100000.0. Increasing the bound and calling fit again may find a better value.\n",
      "  warnings.warn(\n",
      "C:\\Users\\kzhao\\anaconda3\\lib\\site-packages\\sklearn\\gaussian_process\\kernels.py:430: ConvergenceWarning: The optimal value found for dimension 0 of parameter k2__length_scale is close to the specified upper bound 100000.0. Increasing the bound and calling fit again may find a better value.\n",
      "  warnings.warn(\n",
      "C:\\Users\\kzhao\\anaconda3\\lib\\site-packages\\sklearn\\gaussian_process\\kernels.py:430: ConvergenceWarning: The optimal value found for dimension 3 of parameter k2__length_scale is close to the specified upper bound 100000.0. Increasing the bound and calling fit again may find a better value.\n",
      "  warnings.warn(\n",
      "C:\\Users\\kzhao\\anaconda3\\lib\\site-packages\\sklearn\\gaussian_process\\kernels.py:430: ConvergenceWarning: The optimal value found for dimension 5 of parameter k2__length_scale is close to the specified upper bound 100000.0. Increasing the bound and calling fit again may find a better value.\n",
      "  warnings.warn(\n",
      "C:\\Users\\kzhao\\anaconda3\\lib\\site-packages\\sklearn\\gaussian_process\\kernels.py:430: ConvergenceWarning: The optimal value found for dimension 6 of parameter k2__length_scale is close to the specified upper bound 100000.0. Increasing the bound and calling fit again may find a better value.\n",
      "  warnings.warn(\n",
      "C:\\Users\\kzhao\\anaconda3\\lib\\site-packages\\sklearn\\gaussian_process\\kernels.py:430: ConvergenceWarning: The optimal value found for dimension 5 of parameter k2__length_scale is close to the specified upper bound 100000.0. Increasing the bound and calling fit again may find a better value.\n",
      "  warnings.warn(\n",
      "C:\\Users\\kzhao\\anaconda3\\lib\\site-packages\\sklearn\\gaussian_process\\kernels.py:430: ConvergenceWarning: The optimal value found for dimension 1 of parameter k2__length_scale is close to the specified upper bound 100000.0. Increasing the bound and calling fit again may find a better value.\n",
      "  warnings.warn(\n",
      "C:\\Users\\kzhao\\anaconda3\\lib\\site-packages\\sklearn\\gaussian_process\\kernels.py:430: ConvergenceWarning: The optimal value found for dimension 2 of parameter k2__length_scale is close to the specified upper bound 100000.0. Increasing the bound and calling fit again may find a better value.\n",
      "  warnings.warn(\n",
      "C:\\Users\\kzhao\\anaconda3\\lib\\site-packages\\sklearn\\gaussian_process\\kernels.py:430: ConvergenceWarning: The optimal value found for dimension 3 of parameter k2__length_scale is close to the specified upper bound 100000.0. Increasing the bound and calling fit again may find a better value.\n",
      "  warnings.warn(\n",
      "C:\\Users\\kzhao\\anaconda3\\lib\\site-packages\\sklearn\\gaussian_process\\kernels.py:430: ConvergenceWarning: The optimal value found for dimension 5 of parameter k2__length_scale is close to the specified upper bound 100000.0. Increasing the bound and calling fit again may find a better value.\n",
      "  warnings.warn(\n",
      "C:\\Users\\kzhao\\anaconda3\\lib\\site-packages\\sklearn\\gaussian_process\\kernels.py:430: ConvergenceWarning: The optimal value found for dimension 3 of parameter k2__length_scale is close to the specified upper bound 100000.0. Increasing the bound and calling fit again may find a better value.\n",
      "  warnings.warn(\n",
      "C:\\Users\\kzhao\\anaconda3\\lib\\site-packages\\sklearn\\gaussian_process\\kernels.py:430: ConvergenceWarning: The optimal value found for dimension 5 of parameter k2__length_scale is close to the specified upper bound 100000.0. Increasing the bound and calling fit again may find a better value.\n",
      "  warnings.warn(\n",
      "C:\\Users\\kzhao\\anaconda3\\lib\\site-packages\\sklearn\\gaussian_process\\kernels.py:430: ConvergenceWarning: The optimal value found for dimension 6 of parameter k2__length_scale is close to the specified upper bound 100000.0. Increasing the bound and calling fit again may find a better value.\n",
      "  warnings.warn(\n",
      "C:\\Users\\kzhao\\anaconda3\\lib\\site-packages\\sklearn\\gaussian_process\\kernels.py:430: ConvergenceWarning: The optimal value found for dimension 0 of parameter k2__length_scale is close to the specified upper bound 100000.0. Increasing the bound and calling fit again may find a better value.\n",
      "  warnings.warn(\n",
      "C:\\Users\\kzhao\\anaconda3\\lib\\site-packages\\sklearn\\gaussian_process\\kernels.py:430: ConvergenceWarning: The optimal value found for dimension 3 of parameter k2__length_scale is close to the specified upper bound 100000.0. Increasing the bound and calling fit again may find a better value.\n",
      "  warnings.warn(\n",
      "C:\\Users\\kzhao\\anaconda3\\lib\\site-packages\\sklearn\\gaussian_process\\kernels.py:430: ConvergenceWarning: The optimal value found for dimension 5 of parameter k2__length_scale is close to the specified upper bound 100000.0. Increasing the bound and calling fit again may find a better value.\n",
      "  warnings.warn(\n",
      "C:\\Users\\kzhao\\anaconda3\\lib\\site-packages\\sklearn\\gaussian_process\\kernels.py:430: ConvergenceWarning: The optimal value found for dimension 0 of parameter k2__length_scale is close to the specified upper bound 100000.0. Increasing the bound and calling fit again may find a better value.\n",
      "  warnings.warn(\n",
      "C:\\Users\\kzhao\\anaconda3\\lib\\site-packages\\sklearn\\gaussian_process\\kernels.py:430: ConvergenceWarning: The optimal value found for dimension 3 of parameter k2__length_scale is close to the specified upper bound 100000.0. Increasing the bound and calling fit again may find a better value.\n",
      "  warnings.warn(\n",
      "C:\\Users\\kzhao\\anaconda3\\lib\\site-packages\\sklearn\\gaussian_process\\kernels.py:430: ConvergenceWarning: The optimal value found for dimension 5 of parameter k2__length_scale is close to the specified upper bound 100000.0. Increasing the bound and calling fit again may find a better value.\n",
      "  warnings.warn(\n"
     ]
    },
    {
     "name": "stderr",
     "output_type": "stream",
     "text": [
      "C:\\Users\\kzhao\\anaconda3\\lib\\site-packages\\sklearn\\gaussian_process\\kernels.py:430: ConvergenceWarning: The optimal value found for dimension 1 of parameter k2__length_scale is close to the specified upper bound 100000.0. Increasing the bound and calling fit again may find a better value.\n",
      "  warnings.warn(\n",
      "C:\\Users\\kzhao\\anaconda3\\lib\\site-packages\\sklearn\\gaussian_process\\kernels.py:430: ConvergenceWarning: The optimal value found for dimension 2 of parameter k2__length_scale is close to the specified upper bound 100000.0. Increasing the bound and calling fit again may find a better value.\n",
      "  warnings.warn(\n",
      "C:\\Users\\kzhao\\anaconda3\\lib\\site-packages\\sklearn\\gaussian_process\\kernels.py:430: ConvergenceWarning: The optimal value found for dimension 3 of parameter k2__length_scale is close to the specified upper bound 100000.0. Increasing the bound and calling fit again may find a better value.\n",
      "  warnings.warn(\n",
      "C:\\Users\\kzhao\\anaconda3\\lib\\site-packages\\sklearn\\gaussian_process\\kernels.py:430: ConvergenceWarning: The optimal value found for dimension 5 of parameter k2__length_scale is close to the specified upper bound 100000.0. Increasing the bound and calling fit again may find a better value.\n",
      "  warnings.warn(\n",
      "C:\\Users\\kzhao\\anaconda3\\lib\\site-packages\\sklearn\\gaussian_process\\kernels.py:430: ConvergenceWarning: The optimal value found for dimension 2 of parameter k2__length_scale is close to the specified upper bound 100000.0. Increasing the bound and calling fit again may find a better value.\n",
      "  warnings.warn(\n",
      "C:\\Users\\kzhao\\anaconda3\\lib\\site-packages\\sklearn\\gaussian_process\\kernels.py:430: ConvergenceWarning: The optimal value found for dimension 5 of parameter k2__length_scale is close to the specified upper bound 100000.0. Increasing the bound and calling fit again may find a better value.\n",
      "  warnings.warn(\n",
      "C:\\Users\\kzhao\\anaconda3\\lib\\site-packages\\sklearn\\gaussian_process\\kernels.py:430: ConvergenceWarning: The optimal value found for dimension 5 of parameter k2__length_scale is close to the specified upper bound 100000.0. Increasing the bound and calling fit again may find a better value.\n",
      "  warnings.warn(\n",
      "C:\\Users\\kzhao\\anaconda3\\lib\\site-packages\\sklearn\\gaussian_process\\kernels.py:430: ConvergenceWarning: The optimal value found for dimension 5 of parameter k2__length_scale is close to the specified upper bound 100000.0. Increasing the bound and calling fit again may find a better value.\n",
      "  warnings.warn(\n",
      "C:\\Users\\kzhao\\anaconda3\\lib\\site-packages\\sklearn\\gaussian_process\\kernels.py:430: ConvergenceWarning: The optimal value found for dimension 0 of parameter k1__constant_value is close to the specified upper bound 1000.0. Increasing the bound and calling fit again may find a better value.\n",
      "  warnings.warn(\n",
      "C:\\Users\\kzhao\\anaconda3\\lib\\site-packages\\sklearn\\gaussian_process\\kernels.py:430: ConvergenceWarning: The optimal value found for dimension 2 of parameter k2__length_scale is close to the specified upper bound 100000.0. Increasing the bound and calling fit again may find a better value.\n",
      "  warnings.warn(\n",
      "C:\\Users\\kzhao\\anaconda3\\lib\\site-packages\\sklearn\\gaussian_process\\kernels.py:430: ConvergenceWarning: The optimal value found for dimension 3 of parameter k2__length_scale is close to the specified upper bound 100000.0. Increasing the bound and calling fit again may find a better value.\n",
      "  warnings.warn(\n",
      "C:\\Users\\kzhao\\anaconda3\\lib\\site-packages\\sklearn\\gaussian_process\\kernels.py:430: ConvergenceWarning: The optimal value found for dimension 5 of parameter k2__length_scale is close to the specified upper bound 100000.0. Increasing the bound and calling fit again may find a better value.\n",
      "  warnings.warn(\n",
      "C:\\Users\\kzhao\\anaconda3\\lib\\site-packages\\sklearn\\gaussian_process\\kernels.py:430: ConvergenceWarning: The optimal value found for dimension 0 of parameter k2__length_scale is close to the specified upper bound 100000.0. Increasing the bound and calling fit again may find a better value.\n",
      "  warnings.warn(\n",
      "C:\\Users\\kzhao\\anaconda3\\lib\\site-packages\\sklearn\\gaussian_process\\kernels.py:430: ConvergenceWarning: The optimal value found for dimension 2 of parameter k2__length_scale is close to the specified upper bound 100000.0. Increasing the bound and calling fit again may find a better value.\n",
      "  warnings.warn(\n",
      "C:\\Users\\kzhao\\anaconda3\\lib\\site-packages\\sklearn\\gaussian_process\\kernels.py:430: ConvergenceWarning: The optimal value found for dimension 5 of parameter k2__length_scale is close to the specified upper bound 100000.0. Increasing the bound and calling fit again may find a better value.\n",
      "  warnings.warn(\n",
      "C:\\Users\\kzhao\\anaconda3\\lib\\site-packages\\sklearn\\gaussian_process\\kernels.py:430: ConvergenceWarning: The optimal value found for dimension 0 of parameter k2__length_scale is close to the specified upper bound 100000.0. Increasing the bound and calling fit again may find a better value.\n",
      "  warnings.warn(\n",
      "C:\\Users\\kzhao\\anaconda3\\lib\\site-packages\\sklearn\\gaussian_process\\kernels.py:430: ConvergenceWarning: The optimal value found for dimension 5 of parameter k2__length_scale is close to the specified upper bound 100000.0. Increasing the bound and calling fit again may find a better value.\n",
      "  warnings.warn(\n",
      "C:\\Users\\kzhao\\anaconda3\\lib\\site-packages\\sklearn\\gaussian_process\\kernels.py:430: ConvergenceWarning: The optimal value found for dimension 6 of parameter k2__length_scale is close to the specified upper bound 100000.0. Increasing the bound and calling fit again may find a better value.\n",
      "  warnings.warn(\n",
      "C:\\Users\\kzhao\\anaconda3\\lib\\site-packages\\sklearn\\gaussian_process\\kernels.py:430: ConvergenceWarning: The optimal value found for dimension 0 of parameter k2__length_scale is close to the specified upper bound 100000.0. Increasing the bound and calling fit again may find a better value.\n",
      "  warnings.warn(\n",
      "C:\\Users\\kzhao\\anaconda3\\lib\\site-packages\\sklearn\\gaussian_process\\kernels.py:430: ConvergenceWarning: The optimal value found for dimension 5 of parameter k2__length_scale is close to the specified upper bound 100000.0. Increasing the bound and calling fit again may find a better value.\n",
      "  warnings.warn(\n",
      "C:\\Users\\kzhao\\anaconda3\\lib\\site-packages\\sklearn\\gaussian_process\\kernels.py:430: ConvergenceWarning: The optimal value found for dimension 0 of parameter k2__length_scale is close to the specified upper bound 100000.0. Increasing the bound and calling fit again may find a better value.\n",
      "  warnings.warn(\n",
      "C:\\Users\\kzhao\\anaconda3\\lib\\site-packages\\sklearn\\gaussian_process\\kernels.py:430: ConvergenceWarning: The optimal value found for dimension 2 of parameter k2__length_scale is close to the specified upper bound 100000.0. Increasing the bound and calling fit again may find a better value.\n",
      "  warnings.warn(\n",
      "C:\\Users\\kzhao\\anaconda3\\lib\\site-packages\\sklearn\\gaussian_process\\kernels.py:430: ConvergenceWarning: The optimal value found for dimension 3 of parameter k2__length_scale is close to the specified upper bound 100000.0. Increasing the bound and calling fit again may find a better value.\n",
      "  warnings.warn(\n"
     ]
    },
    {
     "name": "stdout",
     "output_type": "stream",
     "text": [
      "Fold 1: Accuracy = 0.8889\n",
      "Fold 2: Accuracy = 0.8077\n",
      "Fold 3: Accuracy = 0.9615\n",
      "Fold 4: Accuracy = 0.8077\n",
      "Fold 5: Accuracy = 0.8077\n",
      "\n",
      "Mean Accuracy: 0.8547\n",
      "Standard Deviation: 0.0620\n"
     ]
    },
    {
     "name": "stderr",
     "output_type": "stream",
     "text": [
      "C:\\Users\\kzhao\\anaconda3\\lib\\site-packages\\sklearn\\gaussian_process\\kernels.py:430: ConvergenceWarning: The optimal value found for dimension 0 of parameter k1__constant_value is close to the specified upper bound 1000.0. Increasing the bound and calling fit again may find a better value.\n",
      "  warnings.warn(\n",
      "C:\\Users\\kzhao\\anaconda3\\lib\\site-packages\\sklearn\\gaussian_process\\kernels.py:430: ConvergenceWarning: The optimal value found for dimension 0 of parameter k2__length_scale is close to the specified upper bound 100000.0. Increasing the bound and calling fit again may find a better value.\n",
      "  warnings.warn(\n",
      "C:\\Users\\kzhao\\anaconda3\\lib\\site-packages\\sklearn\\gaussian_process\\kernels.py:430: ConvergenceWarning: The optimal value found for dimension 2 of parameter k2__length_scale is close to the specified upper bound 100000.0. Increasing the bound and calling fit again may find a better value.\n",
      "  warnings.warn(\n",
      "C:\\Users\\kzhao\\anaconda3\\lib\\site-packages\\sklearn\\gaussian_process\\kernels.py:430: ConvergenceWarning: The optimal value found for dimension 5 of parameter k2__length_scale is close to the specified upper bound 100000.0. Increasing the bound and calling fit again may find a better value.\n",
      "  warnings.warn(\n"
     ]
    }
   ],
   "source": [
    "from sklearn.model_selection import KFold, cross_val_score\n",
    "from sklearn.model_selection import KFold, cross_val_predict\n",
    "from sklearn.metrics import roc_curve, auc\n",
    "from sklearn.multiclass import OneVsRestClassifier\n",
    "\n",
    "kernel =  C(1.0, (1e-3, 1e3)) * RBF([1.0, 1.0, 1.0, 1.0, 1.0, 1.0, 1.0])\n",
    "\n",
    "# Create a GaussianProcessClassifier with the custom kernel\n",
    "gpc_rbf_anisotropic = GaussianProcessClassifier(kernel=kernel, n_restarts_optimizer=10)\n",
    "\n",
    "# Define the hyperparameter grid for the RBF kernel\n",
    "classifier = OneVsRestClassifier(gpc_rbf_anisotropic)\n",
    "\n",
    "# Set up k-fold cross-validation\n",
    "k_folds = 5\n",
    "kf = KFold(n_splits=k_folds, shuffle=True, random_state=504)\n",
    "\n",
    "# Perform k-fold cross-validation and get decision function scores\n",
    "\n",
    "cv_scores = cross_val_score(classifier, features, y, cv=kf, scoring='accuracy')  # Corrected 'acuracy' to 'accuracy'\n",
    "\n",
    "# Print the accuracy scores for each fold\n",
    "for i, score in enumerate(cv_scores, start=1):\n",
    "    print(f'Fold {i}: Accuracy = {score:.4f}')\n",
    "\n",
    "# Print the mean and standard deviation of the cross-validation scores\n",
    "print(f'\\nMean Accuracy: {np.mean(cv_scores):.4f}')\n",
    "print(f'Standard Deviation: {np.std(cv_scores):.4f}')"
   ]
  },
  {
   "cell_type": "code",
   "execution_count": 46,
   "id": "c6429ce7",
   "metadata": {
    "scrolled": true
   },
   "outputs": [
    {
     "name": "stderr",
     "output_type": "stream",
     "text": [
      "C:\\Users\\kzhao\\anaconda3\\lib\\site-packages\\sklearn\\gaussian_process\\kernels.py:430: ConvergenceWarning: The optimal value found for dimension 3 of parameter k2__length_scale is close to the specified upper bound 100000.0. Increasing the bound and calling fit again may find a better value.\n",
      "  warnings.warn(\n",
      "C:\\Users\\kzhao\\anaconda3\\lib\\site-packages\\sklearn\\gaussian_process\\kernels.py:430: ConvergenceWarning: The optimal value found for dimension 5 of parameter k2__length_scale is close to the specified upper bound 100000.0. Increasing the bound and calling fit again may find a better value.\n",
      "  warnings.warn(\n",
      "C:\\Users\\kzhao\\anaconda3\\lib\\site-packages\\sklearn\\gaussian_process\\kernels.py:430: ConvergenceWarning: The optimal value found for dimension 6 of parameter k2__length_scale is close to the specified upper bound 100000.0. Increasing the bound and calling fit again may find a better value.\n",
      "  warnings.warn(\n",
      "C:\\Users\\kzhao\\anaconda3\\lib\\site-packages\\sklearn\\gaussian_process\\kernels.py:430: ConvergenceWarning: The optimal value found for dimension 5 of parameter k2__length_scale is close to the specified upper bound 100000.0. Increasing the bound and calling fit again may find a better value.\n",
      "  warnings.warn(\n",
      "C:\\Users\\kzhao\\anaconda3\\lib\\site-packages\\sklearn\\gaussian_process\\kernels.py:430: ConvergenceWarning: The optimal value found for dimension 1 of parameter k2__length_scale is close to the specified upper bound 100000.0. Increasing the bound and calling fit again may find a better value.\n",
      "  warnings.warn(\n",
      "C:\\Users\\kzhao\\anaconda3\\lib\\site-packages\\sklearn\\gaussian_process\\kernels.py:430: ConvergenceWarning: The optimal value found for dimension 3 of parameter k2__length_scale is close to the specified upper bound 100000.0. Increasing the bound and calling fit again may find a better value.\n",
      "  warnings.warn(\n",
      "C:\\Users\\kzhao\\anaconda3\\lib\\site-packages\\sklearn\\gaussian_process\\_gpc.py:477: ConvergenceWarning: lbfgs failed to converge (status=2):\n",
      "ABNORMAL_TERMINATION_IN_LNSRCH.\n",
      "\n",
      "Increase the number of iterations (max_iter) or scale the data as shown in:\n",
      "    https://scikit-learn.org/stable/modules/preprocessing.html\n",
      "  _check_optimize_result(\"lbfgs\", opt_res)\n"
     ]
    },
    {
     "name": "stdout",
     "output_type": "stream",
     "text": [
      "---- Train  -------\n",
      "\n",
      "              precision    recall  f1-score   support\n",
      "\n",
      "           0       0.92      0.98      0.95        49\n",
      "           1       0.92      0.88      0.90        26\n",
      "           2       1.00      0.82      0.90        11\n",
      "           4       0.80      0.80      0.80         5\n",
      "\n",
      "    accuracy                           0.92        91\n",
      "   macro avg       0.91      0.87      0.89        91\n",
      "weighted avg       0.92      0.92      0.92        91\n",
      "\n",
      "[[48  1  0  0]\n",
      " [ 3 23  0  0]\n",
      " [ 0  1  9  1]\n",
      " [ 1  0  0  4]]\n",
      "---- Test  -------\n",
      "\n",
      "              precision    recall  f1-score   support\n",
      "\n",
      "           0       0.84      0.89      0.86        18\n",
      "           1       0.80      0.73      0.76        11\n",
      "           2       1.00      1.00      1.00         5\n",
      "           4       1.00      1.00      1.00         6\n",
      "\n",
      "    accuracy                           0.88        40\n",
      "   macro avg       0.91      0.90      0.91        40\n",
      "weighted avg       0.87      0.88      0.87        40\n",
      "\n",
      "[[16  2  0  0]\n",
      " [ 3  8  0  0]\n",
      " [ 0  0  5  0]\n",
      " [ 0  0  0  6]]\n"
     ]
    },
    {
     "name": "stderr",
     "output_type": "stream",
     "text": [
      "C:\\Users\\kzhao\\anaconda3\\lib\\site-packages\\sklearn\\gaussian_process\\kernels.py:430: ConvergenceWarning: The optimal value found for dimension 0 of parameter k2__length_scale is close to the specified upper bound 100000.0. Increasing the bound and calling fit again may find a better value.\n",
      "  warnings.warn(\n",
      "C:\\Users\\kzhao\\anaconda3\\lib\\site-packages\\sklearn\\gaussian_process\\kernels.py:430: ConvergenceWarning: The optimal value found for dimension 3 of parameter k2__length_scale is close to the specified upper bound 100000.0. Increasing the bound and calling fit again may find a better value.\n",
      "  warnings.warn(\n",
      "C:\\Users\\kzhao\\anaconda3\\lib\\site-packages\\sklearn\\gaussian_process\\kernels.py:430: ConvergenceWarning: The optimal value found for dimension 6 of parameter k2__length_scale is close to the specified upper bound 100000.0. Increasing the bound and calling fit again may find a better value.\n",
      "  warnings.warn(\n"
     ]
    }
   ],
   "source": [
    "kernel = C(1.0, (1e-5, 1e5)) * RBF([1.0, 1.0,1.0,1.0,1.0,1.0,1.0])\n",
    "gpc_rbf_anisotropic = GaussianProcessClassifier(kernel=kernel, n_restarts_optimizer = 6, ).fit(X_train, y_train)\n",
    "\n",
    "Z = gpc_rbf_anisotropic.predict_proba(X_train)\n",
    "M = gpc_rbf_anisotropic.predict(X_train)\n",
    "\n",
    "printClassResults(y_train, M,  'Train')\n",
    "\n",
    "Z = gpc_rbf_anisotropic.predict_proba(X_test)\n",
    "M = gpc_rbf_anisotropic.predict(X_test)\n",
    "printClassResults(y_test, M, 'Test')"
   ]
  },
  {
   "cell_type": "code",
   "execution_count": 51,
   "id": "418bd184",
   "metadata": {
    "scrolled": false
   },
   "outputs": [
    {
     "name": "stdout",
     "output_type": "stream",
     "text": [
      "[[0.06910507 0.86900377 0.05109127 0.01079989]\n",
      " [0.66179026 0.30677841 0.01990587 0.01152546]\n",
      " [0.79961161 0.16628155 0.02160624 0.0125006 ]\n",
      " [0.56777841 0.38239084 0.03747979 0.01235096]\n",
      " [0.32761353 0.59205292 0.02364738 0.05668616]\n",
      " [0.17674827 0.21154747 0.33638862 0.27531564]\n",
      " [0.0229895  0.70682681 0.12269051 0.14749318]\n",
      " [0.1145608  0.10880935 0.42120501 0.35542484]\n",
      " [0.67721405 0.29088199 0.02086481 0.01103915]\n",
      " [0.16652082 0.78021866 0.04293506 0.01032546]\n",
      " [0.17430727 0.23443542 0.4203022  0.17095511]\n",
      " [0.24402614 0.36374154 0.12058551 0.27164681]\n",
      " [0.92464321 0.02711315 0.02650168 0.02174196]\n",
      " [0.49604662 0.47444057 0.0206795  0.00883331]\n",
      " [0.92682103 0.01721304 0.02914511 0.02682081]\n",
      " [0.7981592  0.16898754 0.0209371  0.01191615]\n",
      " [0.8065782  0.15944671 0.02135338 0.01262172]\n",
      " [0.09503189 0.29339836 0.12741803 0.48415171]\n",
      " [0.15821084 0.26052433 0.09710872 0.4841561 ]\n",
      " [0.68943948 0.24315842 0.02158605 0.04581606]\n",
      " [0.0244071  0.69395436 0.20838081 0.07325773]\n",
      " [0.7734026  0.18001789 0.02043051 0.026149  ]\n",
      " [0.03025203 0.08563922 0.83060082 0.05350793]\n",
      " [0.22361192 0.23459671 0.0947727  0.44701867]\n",
      " [0.39017304 0.57008152 0.02111265 0.01863279]\n",
      " [0.92915067 0.01428266 0.02895263 0.02761404]\n",
      " [0.07313093 0.33928529 0.12167436 0.46590942]\n",
      " [0.04102796 0.47860678 0.4183407  0.06202457]\n",
      " [0.12355302 0.34586858 0.0730896  0.4574888 ]\n",
      " [0.7092156  0.11079899 0.02165208 0.15833333]\n",
      " [0.85730998 0.10168279 0.02127085 0.01973637]\n",
      " [0.02349267 0.70374605 0.11963069 0.15313059]\n",
      " [0.10005786 0.11321499 0.61509512 0.17163203]\n",
      " [0.88883774 0.02473397 0.0277455  0.05868279]\n",
      " [0.77206726 0.14440888 0.06390076 0.0196231 ]\n",
      " [0.91198906 0.04932009 0.0207967  0.01789415]\n",
      " [0.91179969 0.05376623 0.02127516 0.01315892]\n",
      " [0.06635801 0.30268576 0.10243968 0.52851655]\n",
      " [0.02562961 0.81857944 0.11728984 0.03850112]\n",
      " [0.80370778 0.13136578 0.02272619 0.04220026]]\n",
      "[2 1 1 1 2 3 2 3 1 2 3 2 1 1 1 1 1 5 5 1 2 1 3 5 2 1 5 2 5 1 1 2 3 1 1 1 1\n",
      " 5 2 1]\n",
      "[2 1 2 1 1 3 2 3 2 2 3 2 1 2 1 1 1 5 5 1 2 1 3 5 1 1 5 2 5 1 1 2 3 1 1 1 1\n",
      " 5 2 1]\n"
     ]
    }
   ],
   "source": [
    "print(Z)\n",
    "print(M+1)\n",
    "print(y_test+1)"
   ]
  },
  {
   "cell_type": "code",
   "execution_count": 36,
   "id": "4a50e28e",
   "metadata": {
    "scrolled": true
   },
   "outputs": [
    {
     "name": "stderr",
     "output_type": "stream",
     "text": [
      "C:\\Users\\kzhao\\anaconda3\\lib\\site-packages\\sklearn\\gaussian_process\\kernels.py:430: ConvergenceWarning: The optimal value found for dimension 3 of parameter k2__length_scale is close to the specified upper bound 100000.0. Increasing the bound and calling fit again may find a better value.\n",
      "  warnings.warn(\n",
      "C:\\Users\\kzhao\\anaconda3\\lib\\site-packages\\sklearn\\gaussian_process\\kernels.py:430: ConvergenceWarning: The optimal value found for dimension 5 of parameter k2__length_scale is close to the specified upper bound 100000.0. Increasing the bound and calling fit again may find a better value.\n",
      "  warnings.warn(\n",
      "C:\\Users\\kzhao\\anaconda3\\lib\\site-packages\\sklearn\\gaussian_process\\kernels.py:430: ConvergenceWarning: The optimal value found for dimension 6 of parameter k2__length_scale is close to the specified upper bound 100000.0. Increasing the bound and calling fit again may find a better value.\n",
      "  warnings.warn(\n",
      "C:\\Users\\kzhao\\anaconda3\\lib\\site-packages\\sklearn\\gaussian_process\\kernels.py:430: ConvergenceWarning: The optimal value found for dimension 5 of parameter k2__length_scale is close to the specified upper bound 100000.0. Increasing the bound and calling fit again may find a better value.\n",
      "  warnings.warn(\n",
      "C:\\Users\\kzhao\\anaconda3\\lib\\site-packages\\sklearn\\gaussian_process\\kernels.py:430: ConvergenceWarning: The optimal value found for dimension 1 of parameter k2__length_scale is close to the specified upper bound 100000.0. Increasing the bound and calling fit again may find a better value.\n",
      "  warnings.warn(\n",
      "C:\\Users\\kzhao\\anaconda3\\lib\\site-packages\\sklearn\\gaussian_process\\kernels.py:430: ConvergenceWarning: The optimal value found for dimension 3 of parameter k2__length_scale is close to the specified upper bound 100000.0. Increasing the bound and calling fit again may find a better value.\n",
      "  warnings.warn(\n",
      "C:\\Users\\kzhao\\anaconda3\\lib\\site-packages\\sklearn\\gaussian_process\\kernels.py:430: ConvergenceWarning: The optimal value found for dimension 4 of parameter k2__length_scale is close to the specified upper bound 100000.0. Increasing the bound and calling fit again may find a better value.\n",
      "  warnings.warn(\n",
      "C:\\Users\\kzhao\\anaconda3\\lib\\site-packages\\sklearn\\gaussian_process\\kernels.py:430: ConvergenceWarning: The optimal value found for dimension 0 of parameter k2__length_scale is close to the specified upper bound 100000.0. Increasing the bound and calling fit again may find a better value.\n",
      "  warnings.warn(\n",
      "C:\\Users\\kzhao\\anaconda3\\lib\\site-packages\\sklearn\\gaussian_process\\kernels.py:430: ConvergenceWarning: The optimal value found for dimension 3 of parameter k2__length_scale is close to the specified upper bound 100000.0. Increasing the bound and calling fit again may find a better value.\n",
      "  warnings.warn(\n"
     ]
    }
   ],
   "source": [
    "y_score = classifier.fit(X_train, y_train).predict_proba(X_test)"
   ]
  },
  {
   "cell_type": "code",
   "execution_count": 37,
   "id": "fde69cdf",
   "metadata": {},
   "outputs": [
    {
     "data": {
      "text/plain": [
       "(40, 4)"
      ]
     },
     "execution_count": 37,
     "metadata": {},
     "output_type": "execute_result"
    }
   ],
   "source": [
    "from sklearn.preprocessing import LabelBinarizer\n",
    "import matplotlib.pyplot as plt\n",
    "from sklearn.metrics import RocCurveDisplay\n",
    "\n",
    "label_binarizer = LabelBinarizer().fit(y_train)\n",
    "y_onehot_test = label_binarizer.transform(y_test)\n",
    "y_onehot_test.shape  # (n_samples, n_classes)"
   ]
  },
  {
   "cell_type": "code",
   "execution_count": 38,
   "id": "b4e0c767",
   "metadata": {},
   "outputs": [
    {
     "name": "stdout",
     "output_type": "stream",
     "text": [
      "Micro-averaged One-vs-Rest ROC AUC score:\n",
      "0.96\n",
      "Macro-averaged One-vs-Rest ROC AUC score:\n",
      "0.96\n"
     ]
    }
   ],
   "source": [
    "from sklearn.metrics import auc, roc_curve\n",
    "from sklearn.metrics import roc_auc_score\n",
    "# store the fpr, tpr, and roc_auc for all averaging strategies\n",
    "fpr, tpr, roc_auc = dict(), dict(), dict()\n",
    "# Compute micro-average ROC curve and ROC area\n",
    "fpr[\"micro\"], tpr[\"micro\"], _ = roc_curve(y_onehot_test.ravel(), y_score.ravel())\n",
    "roc_auc[\"micro\"] = auc(fpr[\"micro\"], tpr[\"micro\"])\n",
    "\n",
    "print(f\"Micro-averaged One-vs-Rest ROC AUC score:\\n{roc_auc['micro']:.2f}\")\n",
    "\n",
    "for i in range(4):\n",
    "    fpr[i], tpr[i], _ = roc_curve(y_onehot_test[:, i], y_score[:, i])\n",
    "    roc_auc[i] = auc(fpr[i], tpr[i])\n",
    "\n",
    "fpr_grid = np.linspace(0.0, 1.0, 1000)\n",
    "\n",
    "# Interpolate all ROC curves at these points\n",
    "mean_tpr = np.zeros_like(fpr_grid)\n",
    "\n",
    "for i in range(4):\n",
    "    mean_tpr += np.interp(fpr_grid, fpr[i], tpr[i])  # linear interpolation\n",
    "\n",
    "# Average it and compute AUC\n",
    "mean_tpr /= 4\n",
    "\n",
    "fpr[\"macro\"] = fpr_grid\n",
    "tpr[\"macro\"] = mean_tpr\n",
    "roc_auc[\"macro\"] = auc(fpr[\"macro\"], tpr[\"macro\"])\n",
    "\n",
    "print(f\"Macro-averaged One-vs-Rest ROC AUC score:\\n{roc_auc['macro']:.2f}\")"
   ]
  },
  {
   "cell_type": "code",
   "execution_count": 39,
   "id": "3f85aa6d",
   "metadata": {},
   "outputs": [],
   "source": [
    "target_names = ['Normal road', 'Large cracks', 'Road bumps', 'Potholes']"
   ]
  },
  {
   "cell_type": "code",
   "execution_count": 40,
   "id": "58e44d23",
   "metadata": {},
   "outputs": [
    {
     "data": {
      "image/png": "[encoded data removed]",
      "text/plain": [
       "<Figure size 600x600 with 1 Axes>"
      ]
     },
     "metadata": {},
     "output_type": "display_data"
    }
   ],
   "source": [
    "from itertools import cycle\n",
    "\n",
    "fig, ax = plt.subplots(figsize=(6, 6))\n",
    "\n",
    "# plt.plot(\n",
    "#     fpr[\"micro\"],\n",
    "#     tpr[\"micro\"],\n",
    "#     label=f\"micro-average ROC curve (AUC = {roc_auc['micro']:.2f})\",\n",
    "#     color=\"deeppink\",\n",
    "#     linestyle=\":\",\n",
    "#     linewidth=4,\n",
    "# )\n",
    "\n",
    "plt.plot(\n",
    "    fpr[\"macro\"],\n",
    "    tpr[\"macro\"],\n",
    "    label=f\"macro-average ROC curve (AUC = {roc_auc['macro']:.2f})\",\n",
    "    color=\"navy\",\n",
    "    linestyle=\":\",\n",
    "    linewidth=4,\n",
    ")\n",
    "\n",
    "colors = cycle([\"aqua\", \"darkorange\", \"cornflowerblue\", \"red\"])\n",
    "for class_id, color in zip(range(4), colors):\n",
    "    RocCurveDisplay.from_predictions(\n",
    "        y_onehot_test[:, class_id],\n",
    "        y_score[:, class_id],\n",
    "        name=f\"ROC curve for {target_names[class_id]}\",\n",
    "        color=color,\n",
    "        ax=ax,\n",
    "        \n",
    "    )\n",
    "\n",
    "plt.axis(\"square\")\n",
    "plt.xlabel(\"False Positive Rate\")\n",
    "plt.ylabel(\"True Positive Rate\")\n",
    "plt.title(\"Receiver Operating Characteristic\")\n",
    "plt.legend()\n",
    "plt.show()\n",
    "# fig.savefig('ROC.svg', format='svg',dpi=300, bbox_inches='tight',transparent=True, pad_inches=0.1)\n",
    "plt.close()"
   ]
  },
  {
   "cell_type": "code",
   "execution_count": 41,
   "id": "d3b26879",
   "metadata": {},
   "outputs": [
    {
     "data": {
      "text/plain": [
       "[11.7**2 * RBF(length_scale=[7.1e+03, 1.54, 1.2, 1e+05, 1.86, 1e+05, 1e+05]),\n",
       " 4.42**2 * RBF(length_scale=[1e+05, 0.895, 0.278, 1e+05, 1.14, 3.82e+04, 1.06]),\n",
       " 6.1**2 * RBF(length_scale=[1e+05, 1e+05, 4.28e+03, 9.97e+04, 1e+05, 14, 0.509]),\n",
       " 6.75**2 * RBF(length_scale=[1e+05, 2.74, 0.956, 1.56e+03, 1.41, 2.8e+03, 1e+05])]"
      ]
     },
     "execution_count": 41,
     "metadata": {},
     "output_type": "execute_result"
    }
   ],
   "source": [
    "gpc_rbf_anisotropic.kernel_.kernels"
   ]
  },
  {
   "cell_type": "code",
   "execution_count": 44,
   "id": "bcd5763f",
   "metadata": {
    "scrolled": false
   },
   "outputs": [
    {
     "data": {
      "text/plain": [
       "array([[0.06910483, 0.86899665, 0.05109743, 0.01080109],\n",
       "       [0.66178981, 0.3067736 , 0.01990979, 0.0115268 ],\n",
       "       [0.79960519, 0.1662841 , 0.02160961, 0.0125011 ],\n",
       "       [0.56777241, 0.38239123, 0.03748472, 0.01235164],\n",
       "       [0.32761526, 0.59204623, 0.02365231, 0.0566862 ],\n",
       "       [0.17674649, 0.2115441 , 0.336396  , 0.27531341],\n",
       "       [0.02298963, 0.7068325 , 0.12269129, 0.14748659],\n",
       "       [0.11456074, 0.10880635, 0.42121696, 0.35541594],\n",
       "       [0.67720954, 0.29088238, 0.02086815, 0.01103993],\n",
       "       [0.16652034, 0.78021199, 0.04294071, 0.01032697],\n",
       "       [0.17430425, 0.23443001, 0.42030662, 0.17095913],\n",
       "       [0.24402351, 0.36373638, 0.12058094, 0.27165917],\n",
       "       [0.9246352 , 0.02711352, 0.02650728, 0.02174401],\n",
       "       [0.49604566, 0.4744371 , 0.02068281, 0.00883444],\n",
       "       [0.92681244, 0.01721287, 0.02915152, 0.02682317],\n",
       "       [0.79815297, 0.16898964, 0.02094052, 0.01191687],\n",
       "       [0.80657187, 0.15944919, 0.02135675, 0.01262219],\n",
       "       [0.09503224, 0.2934021 , 0.12741801, 0.48414765],\n",
       "       [0.15820902, 0.2605229 , 0.09709943, 0.48416865],\n",
       "       [0.68943423, 0.24315088, 0.02159048, 0.04582441],\n",
       "       [0.02440737, 0.69395842, 0.20838433, 0.07324988],\n",
       "       [0.77340184, 0.18001922, 0.02043402, 0.02614492],\n",
       "       [0.03025173, 0.08563905, 0.83059458, 0.05351464],\n",
       "       [0.22361598, 0.2345988 , 0.09477405, 0.44701116],\n",
       "       [0.39017372, 0.57007701, 0.02111642, 0.01863285],\n",
       "       [0.92914218, 0.01428265, 0.02895898, 0.02761619],\n",
       "       [0.07312871, 0.33927804, 0.12167114, 0.46592211],\n",
       "       [0.04102804, 0.47860455, 0.41834474, 0.06202266],\n",
       "       [0.12354961, 0.34585534, 0.07308725, 0.4575078 ],\n",
       "       [0.70922424, 0.11079749, 0.02165712, 0.15832115],\n",
       "       [0.85730568, 0.10168414, 0.02127476, 0.01973542],\n",
       "       [0.0234933 , 0.70376083, 0.11963373, 0.15311214],\n",
       "       [0.10005427, 0.11320964, 0.61509035, 0.17164574],\n",
       "       [0.88883114, 0.02473412, 0.02775157, 0.05868317],\n",
       "       [0.7720613 , 0.14440895, 0.06390693, 0.01962282],\n",
       "       [0.91198571, 0.04931993, 0.02080027, 0.01789409],\n",
       "       [0.91179377, 0.05376756, 0.02127883, 0.01315984],\n",
       "       [0.06635729, 0.30268319, 0.10243856, 0.52852096],\n",
       "       [0.02562955, 0.81857935, 0.11728919, 0.0385019 ],\n",
       "       [0.80370621, 0.13136418, 0.02273096, 0.04219865]])"
      ]
     },
     "execution_count": 44,
     "metadata": {},
     "output_type": "execute_result"
    }
   ],
   "source": [
    "gpc_rbf_anisotropic.predict_proba(X_test)"
   ]
  },
  {
   "cell_type": "code",
   "execution_count": 43,
   "id": "6b7f1e84",
   "metadata": {},
   "outputs": [],
   "source": [
    "meanFeatures = np.mean(features,axis=0)"
   ]
  },
  {
   "cell_type": "code",
   "execution_count": 45,
   "id": "7d74792b",
   "metadata": {},
   "outputs": [
    {
     "data": {
      "text/plain": [
       "array([1, 0, 1, 0, 0, 2, 1, 2, 1, 1, 2, 1, 0, 1, 0, 0, 0, 4, 4, 0, 1, 0,\n",
       "       2, 4, 0, 0, 4, 1, 4, 0, 0, 1, 2, 0, 0, 0, 0, 4, 1, 0], dtype=int64)"
      ]
     },
     "execution_count": 45,
     "metadata": {},
     "output_type": "execute_result"
    }
   ],
   "source": [
    "y_test"
   ]
  },
  {
   "cell_type": "code",
   "execution_count": null,
   "id": "dc8ea759",
   "metadata": {},
   "outputs": [],
   "source": []
  }
 ],
 "metadata": {
  "kernelspec": {
   "display_name": "Python 3 (ipykernel)",
   "language": "python",
   "name": "python3"
  },
  "language_info": {
   "codemirror_mode": {
    "name": "ipython",
    "version": 3
   },
   "file_extension": ".py",
   "mimetype": "text/x-python",
   "name": "python",
   "nbconvert_exporter": "python",
   "pygments_lexer": "ipython3",
   "version": "3.10.11"
  }
 },
 "nbformat": 4,
 "nbformat_minor": 5
}
